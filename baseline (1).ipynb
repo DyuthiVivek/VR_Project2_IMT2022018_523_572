{
  "metadata": {
    "kernelspec": {
      "display_name": "Python 3",
      "name": "python3"
    },
    "language_info": {
      "name": "python",
      "version": "3.11.11",
      "mimetype": "text/x-python",
      "codemirror_mode": {
        "name": "ipython",
        "version": 3
      },
      "pygments_lexer": "ipython3",
      "nbconvert_exporter": "python",
      "file_extension": ".py"
    },
    "kaggle": {
      "accelerator": "nvidiaTeslaT4",
      "dataSources": [
        {
          "sourceId": 11759793,
          "sourceType": "datasetVersion",
          "datasetId": 7382529
        },
        {
          "sourceId": 385420,
          "sourceType": "modelInstanceVersion",
          "isSourceIdPinned": true,
          "modelInstanceId": 317955,
          "modelId": 338520
        },
        {
          "sourceId": 386544,
          "sourceType": "modelInstanceVersion",
          "isSourceIdPinned": true,
          "modelInstanceId": 318725,
          "modelId": 339298
        },
        {
          "sourceId": 387232,
          "sourceType": "modelInstanceVersion",
          "isSourceIdPinned": true,
          "modelInstanceId": 319260,
          "modelId": 339819
        },
        {
          "sourceId": 392242,
          "sourceType": "modelInstanceVersion",
          "isSourceIdPinned": true,
          "modelInstanceId": 322956,
          "modelId": 343649
        },
        {
          "sourceId": 398787,
          "sourceType": "modelInstanceVersion",
          "isSourceIdPinned": true,
          "modelInstanceId": 326492,
          "modelId": 347395
        },
        {
          "sourceId": 399694,
          "sourceType": "modelInstanceVersion",
          "isSourceIdPinned": true,
          "modelInstanceId": 327098,
          "modelId": 347995
        }
      ],
      "dockerImageVersionId": 31011,
      "isInternetEnabled": true,
      "language": "python",
      "sourceType": "notebook",
      "isGpuEnabled": true
    },
    "colab": {
      "provenance": [],
      "gpuType": "T4"
    },
    "accelerator": "GPU"
  },
  "nbformat_minor": 0,
  "nbformat": 4,
  "cells": [
    {
      "cell_type": "code",
      "source": [
        "# This Python 3 environment comes with many helpful analytics libraries installed\n",
        "# It is defined by the kaggle/python Docker image: https://github.com/kaggle/docker-python\n",
        "# For example, here's several helpful packages to load\n",
        "\n",
        "import numpy as np # linear algebra\n",
        "import pandas as pd # data processing, CSV file I/O (e.g. pd.read_csv)\n",
        "\n",
        "# Input data files are available in the read-only \"../input/\" directory\n",
        "# For example, running this (by clicking run or pressing Shift+Enter) will list all files under the input directory\n",
        "\n",
        "import os\n",
        "for dirname, _, filenames in os.walk('/kaggle/input'):\n",
        "    for filename in filenames:\n",
        "        print(os.path.join(dirname, filename))\n",
        "\n",
        "# You can write up to 20GB to the current directory (/kaggle/working/) that gets preserved as output when you create a version using \"Save & Run All\"\n",
        "# You can also write temporary files to /kaggle/temp/, but they won't be saved outside of the current session"
      ],
      "metadata": {
        "_uuid": "8f2839f25d086af736a60e9eeb907d3b93b6e0e5",
        "_cell_guid": "b1076dfc-b9ad-4769-8c92-a6c4dae69d19",
        "trusted": true,
        "execution": {
          "iopub.status.busy": "2025-05-14T15:15:07.962986Z",
          "iopub.execute_input": "2025-05-14T15:15:07.963356Z",
          "iopub.status.idle": "2025-05-14T15:15:08.419914Z",
          "shell.execute_reply.started": "2025-05-14T15:15:07.963328Z",
          "shell.execute_reply": "2025-05-14T15:15:08.418595Z"
        },
        "id": "IkhB6ew-ZrjE",
        "outputId": "9482162e-e8b5-4b4e-a6cf-bd3d45c47342"
      },
      "outputs": [
        {
          "name": "stdout",
          "text": "/kaggle/input/blip1epoch/pytorch/default/1/blip-lora-vqa/adapter_model.safetensors\n/kaggle/input/blip1epoch/pytorch/default/1/blip-lora-vqa/adapter_config.json\n/kaggle/input/blip1epoch/pytorch/default/1/blip-lora-vqa/README.md\n/kaggle/input/blip-epoch-10/pytorch/default/1/blip-saved-model/config.json\n/kaggle/input/blip-epoch-10/pytorch/default/1/blip-saved-model/model.safetensors\n/kaggle/input/blip-epoch-10/pytorch/default/1/blip-saved-model/generation_config.json\n/kaggle/input/fine_tune_param/pytorch/default/1/adapter_model.safetensors\n/kaggle/input/fine_tune_param/pytorch/default/1/adapter_config.json\n/kaggle/input/fine_tune_param/pytorch/default/1/README.md\n/kaggle/input/fine_tune_param/pytorch/default/1/blip-lora-vqa/adapter_model.safetensors\n/kaggle/input/fine_tune_param/pytorch/default/1/blip-lora-vqa/adapter_config.json\n/kaggle/input/fine_tune_param/pytorch/default/1/blip-lora-vqa/README.md\n/kaggle/input/10epochs/pytorch/default/1/adapter_model.safetensors\n/kaggle/input/10epochs/pytorch/default/1/adapter_config.json\n/kaggle/input/10epochs/pytorch/default/1/README.md\n/kaggle/input/test-data/test.json\n",
          "output_type": "stream"
        }
      ],
      "execution_count": null
    },
    {
      "cell_type": "markdown",
      "source": [
        " #  Loading test data"
      ],
      "metadata": {
        "id": "0k5TAPgVZrjG"
      }
    },
    {
      "cell_type": "code",
      "source": [
        "!ls /kaggle/input/\n",
        "!ls /kaggle/working/"
      ],
      "metadata": {
        "trusted": true,
        "id": "V9LarsvkZrjH"
      },
      "outputs": [],
      "execution_count": null
    },
    {
      "cell_type": "code",
      "source": [
        "!wget https://amazon-berkeley-objects.s3.amazonaws.com/archives/abo-images-small.tar\n",
        "!tar -xf abo-images-small.tar\n",
        "!rm abo-images-small.tar"
      ],
      "metadata": {
        "trusted": true,
        "execution": {
          "iopub.status.busy": "2025-05-18T10:57:52.259857Z",
          "iopub.execute_input": "2025-05-18T10:57:52.260092Z",
          "iopub.status.idle": "2025-05-18T10:59:10.616682Z",
          "shell.execute_reply.started": "2025-05-18T10:57:52.260066Z",
          "shell.execute_reply": "2025-05-18T10:59:10.615153Z"
        },
        "colab": {
          "base_uri": "https://localhost:8080/"
        },
        "id": "8rF5v93qZrjH",
        "outputId": "07614737-0a38-4bc1-f68f-361a19a0f217"
      },
      "outputs": [
        {
          "output_type": "stream",
          "name": "stdout",
          "text": [
            "--2025-05-18 13:06:42--  https://amazon-berkeley-objects.s3.amazonaws.com/archives/abo-images-small.tar\n",
            "Resolving amazon-berkeley-objects.s3.amazonaws.com (amazon-berkeley-objects.s3.amazonaws.com)... 16.182.99.201, 54.231.199.105, 3.5.17.152, ...\n",
            "Connecting to amazon-berkeley-objects.s3.amazonaws.com (amazon-berkeley-objects.s3.amazonaws.com)|16.182.99.201|:443... connected.\n",
            "HTTP request sent, awaiting response... 200 OK\n",
            "Length: 3253381120 (3.0G) [application/x-tar]\n",
            "Saving to: ‘abo-images-small.tar’\n",
            "\n",
            "abo-images-small.ta 100%[===================>]   3.03G  12.3MB/s    in 3m 58s  \n",
            "\n",
            "2025-05-18 13:10:41 (13.0 MB/s) - ‘abo-images-small.tar’ saved [3253381120/3253381120]\n",
            "\n"
          ]
        }
      ],
      "execution_count": 7
    },
    {
      "cell_type": "code",
      "source": [
        "from pathlib import Path\n",
        "\n",
        "dataset_path = Path(\"/kaggle/working/\")\n",
        "\n",
        "img_path = dataset_path / \"images/small/24/2447e80d.jpg\"\n",
        "print(img_path.exists())"
      ],
      "metadata": {
        "trusted": true,
        "execution": {
          "iopub.status.busy": "2025-05-18T11:01:15.519836Z",
          "iopub.execute_input": "2025-05-18T11:01:15.520119Z",
          "iopub.status.idle": "2025-05-18T11:01:15.525237Z",
          "shell.execute_reply.started": "2025-05-18T11:01:15.520091Z",
          "shell.execute_reply": "2025-05-18T11:01:15.524531Z"
        },
        "id": "-pKpnv4KZrjH",
        "outputId": "1413fa9b-8622-4e6a-e898-a0e0c566222c"
      },
      "outputs": [
        {
          "name": "stdout",
          "text": "True\n",
          "output_type": "stream"
        }
      ],
      "execution_count": null
    },
    {
      "cell_type": "code",
      "source": [
        "import cv2\n",
        "img = cv2.imread(dataset_path / \"images/small/ec/ec8e1726.jpg\")"
      ],
      "metadata": {
        "trusted": true,
        "execution": {
          "iopub.status.busy": "2025-05-18T11:01:22.128443Z",
          "iopub.execute_input": "2025-05-18T11:01:22.128702Z",
          "iopub.status.idle": "2025-05-18T11:01:22.530372Z",
          "shell.execute_reply.started": "2025-05-18T11:01:22.128681Z",
          "shell.execute_reply": "2025-05-18T11:01:22.529626Z"
        },
        "id": "rnHnZnpbZrjH"
      },
      "outputs": [],
      "execution_count": null
    },
    {
      "cell_type": "code",
      "source": [
        "import matplotlib.pyplot as plt\n",
        "plt.imshow(img)"
      ],
      "metadata": {
        "trusted": true,
        "execution": {
          "iopub.status.busy": "2025-05-18T11:01:22.531611Z",
          "iopub.execute_input": "2025-05-18T11:01:22.532131Z",
          "iopub.status.idle": "2025-05-18T11:01:22.826478Z",
          "shell.execute_reply.started": "2025-05-18T11:01:22.532111Z",
          "shell.execute_reply": "2025-05-18T11:01:22.825766Z"
        },
        "id": "GuXh3-XHZrjH",
        "outputId": "05581e27-f739-4cf0-8075-66f9f4ea3d3e"
      },
      "outputs": [
        {
          "execution_count": 4,
          "output_type": "execute_result",
          "data": {
            "text/plain": "<matplotlib.image.AxesImage at 0x7dced8528850>"
          },
          "metadata": {}
        },
        {
          "output_type": "display_data",
          "data": {
            "text/plain": "<Figure size 640x480 with 1 Axes>",
            "image/png": "[encoded data removed]"
          },
          "metadata": {}
        }
      ],
      "execution_count": null
    },
    {
      "cell_type": "code",
      "source": [
        "!pip install transformers accelerate\n",
        "!pip install bert-score"
      ],
      "metadata": {
        "trusted": true,
        "execution": {
          "iopub.status.busy": "2025-05-18T11:01:26.480917Z",
          "iopub.execute_input": "2025-05-18T11:01:26.481166Z",
          "iopub.status.idle": "2025-05-18T11:02:42.768526Z",
          "shell.execute_reply.started": "2025-05-18T11:01:26.481145Z",
          "shell.execute_reply": "2025-05-18T11:02:42.767681Z"
        },
        "colab": {
          "base_uri": "https://localhost:8080/"
        },
        "id": "fkUW7vyxZrjI",
        "outputId": "e85aebff-923a-4600-bb14-dc9994208d18"
      },
      "outputs": [
        {
          "output_type": "stream",
          "name": "stdout",
          "text": [
            "Requirement already satisfied: transformers in /usr/local/lib/python3.11/dist-packages (4.51.3)\n",
            "Requirement already satisfied: accelerate in /usr/local/lib/python3.11/dist-packages (1.6.0)\n",
            "Requirement already satisfied: filelock in /usr/local/lib/python3.11/dist-packages (from transformers) (3.18.0)\n",
            "Requirement already satisfied: huggingface-hub<1.0,>=0.30.0 in /usr/local/lib/python3.11/dist-packages (from transformers) (0.31.2)\n",
            "Requirement already satisfied: numpy>=1.17 in /usr/local/lib/python3.11/dist-packages (from transformers) (2.0.2)\n",
            "Requirement already satisfied: packaging>=20.0 in /usr/local/lib/python3.11/dist-packages (from transformers) (24.2)\n",
            "Requirement already satisfied: pyyaml>=5.1 in /usr/local/lib/python3.11/dist-packages (from transformers) (6.0.2)\n",
            "Requirement already satisfied: regex!=2019.12.17 in /usr/local/lib/python3.11/dist-packages (from transformers) (2024.11.6)\n",
            "Requirement already satisfied: requests in /usr/local/lib/python3.11/dist-packages (from transformers) (2.32.3)\n",
            "Requirement already satisfied: tokenizers<0.22,>=0.21 in /usr/local/lib/python3.11/dist-packages (from transformers) (0.21.1)\n",
            "Requirement already satisfied: safetensors>=0.4.3 in /usr/local/lib/python3.11/dist-packages (from transformers) (0.5.3)\n",
            "Requirement already satisfied: tqdm>=4.27 in /usr/local/lib/python3.11/dist-packages (from transformers) (4.67.1)\n",
            "Requirement already satisfied: psutil in /usr/local/lib/python3.11/dist-packages (from accelerate) (5.9.5)\n",
            "Requirement already satisfied: torch>=2.0.0 in /usr/local/lib/python3.11/dist-packages (from accelerate) (2.6.0+cu124)\n",
            "Requirement already satisfied: fsspec>=2023.5.0 in /usr/local/lib/python3.11/dist-packages (from huggingface-hub<1.0,>=0.30.0->transformers) (2025.3.2)\n",
            "Requirement already satisfied: typing-extensions>=3.7.4.3 in /usr/local/lib/python3.11/dist-packages (from huggingface-hub<1.0,>=0.30.0->transformers) (4.13.2)\n",
            "Requirement already satisfied: networkx in /usr/local/lib/python3.11/dist-packages (from torch>=2.0.0->accelerate) (3.4.2)\n",
            "Requirement already satisfied: jinja2 in /usr/local/lib/python3.11/dist-packages (from torch>=2.0.0->accelerate) (3.1.6)\n",
            "Collecting nvidia-cuda-nvrtc-cu12==12.4.127 (from torch>=2.0.0->accelerate)\n",
            "  Downloading nvidia_cuda_nvrtc_cu12-12.4.127-py3-none-manylinux2014_x86_64.whl.metadata (1.5 kB)\n",
            "Collecting nvidia-cuda-runtime-cu12==12.4.127 (from torch>=2.0.0->accelerate)\n",
            "  Downloading nvidia_cuda_runtime_cu12-12.4.127-py3-none-manylinux2014_x86_64.whl.metadata (1.5 kB)\n",
            "Collecting nvidia-cuda-cupti-cu12==12.4.127 (from torch>=2.0.0->accelerate)\n",
            "  Downloading nvidia_cuda_cupti_cu12-12.4.127-py3-none-manylinux2014_x86_64.whl.metadata (1.6 kB)\n",
            "Collecting nvidia-cudnn-cu12==9.1.0.70 (from torch>=2.0.0->accelerate)\n",
            "  Downloading nvidia_cudnn_cu12-9.1.0.70-py3-none-manylinux2014_x86_64.whl.metadata (1.6 kB)\n",
            "Collecting nvidia-cublas-cu12==12.4.5.8 (from torch>=2.0.0->accelerate)\n",
            "  Downloading nvidia_cublas_cu12-12.4.5.8-py3-none-manylinux2014_x86_64.whl.metadata (1.5 kB)\n",
            "Collecting nvidia-cufft-cu12==11.2.1.3 (from torch>=2.0.0->accelerate)\n",
            "  Downloading nvidia_cufft_cu12-11.2.1.3-py3-none-manylinux2014_x86_64.whl.metadata (1.5 kB)\n",
            "Collecting nvidia-curand-cu12==10.3.5.147 (from torch>=2.0.0->accelerate)\n",
            "  Downloading nvidia_curand_cu12-10.3.5.147-py3-none-manylinux2014_x86_64.whl.metadata (1.5 kB)\n",
            "Collecting nvidia-cusolver-cu12==11.6.1.9 (from torch>=2.0.0->accelerate)\n",
            "  Downloading nvidia_cusolver_cu12-11.6.1.9-py3-none-manylinux2014_x86_64.whl.metadata (1.6 kB)\n",
            "Collecting nvidia-cusparse-cu12==12.3.1.170 (from torch>=2.0.0->accelerate)\n",
            "  Downloading nvidia_cusparse_cu12-12.3.1.170-py3-none-manylinux2014_x86_64.whl.metadata (1.6 kB)\n",
            "Requirement already satisfied: nvidia-cusparselt-cu12==0.6.2 in /usr/local/lib/python3.11/dist-packages (from torch>=2.0.0->accelerate) (0.6.2)\n",
            "Requirement already satisfied: nvidia-nccl-cu12==2.21.5 in /usr/local/lib/python3.11/dist-packages (from torch>=2.0.0->accelerate) (2.21.5)\n",
            "Requirement already satisfied: nvidia-nvtx-cu12==12.4.127 in /usr/local/lib/python3.11/dist-packages (from torch>=2.0.0->accelerate) (12.4.127)\n",
            "Collecting nvidia-nvjitlink-cu12==12.4.127 (from torch>=2.0.0->accelerate)\n",
            "  Downloading nvidia_nvjitlink_cu12-12.4.127-py3-none-manylinux2014_x86_64.whl.metadata (1.5 kB)\n",
            "Requirement already satisfied: triton==3.2.0 in /usr/local/lib/python3.11/dist-packages (from torch>=2.0.0->accelerate) (3.2.0)\n",
            "Requirement already satisfied: sympy==1.13.1 in /usr/local/lib/python3.11/dist-packages (from torch>=2.0.0->accelerate) (1.13.1)\n",
            "Requirement already satisfied: mpmath<1.4,>=1.1.0 in /usr/local/lib/python3.11/dist-packages (from sympy==1.13.1->torch>=2.0.0->accelerate) (1.3.0)\n",
            "Requirement already satisfied: charset-normalizer<4,>=2 in /usr/local/lib/python3.11/dist-packages (from requests->transformers) (3.4.2)\n",
            "Requirement already satisfied: idna<4,>=2.5 in /usr/local/lib/python3.11/dist-packages (from requests->transformers) (3.10)\n",
            "Requirement already satisfied: urllib3<3,>=1.21.1 in /usr/local/lib/python3.11/dist-packages (from requests->transformers) (2.4.0)\n",
            "Requirement already satisfied: certifi>=2017.4.17 in /usr/local/lib/python3.11/dist-packages (from requests->transformers) (2025.4.26)\n",
            "Requirement already satisfied: MarkupSafe>=2.0 in /usr/local/lib/python3.11/dist-packages (from jinja2->torch>=2.0.0->accelerate) (3.0.2)\n",
            "Downloading nvidia_cublas_cu12-12.4.5.8-py3-none-manylinux2014_x86_64.whl (363.4 MB)\n",
            "\u001b[2K   \u001b[90m━━━━━━━━━━━━━━━━━━━━━━━━━━━━━━━━━━━━━━━━\u001b[0m \u001b[32m363.4/363.4 MB\u001b[0m \u001b[31m4.0 MB/s\u001b[0m eta \u001b[36m0:00:00\u001b[0m\n",
            "\u001b[?25hDownloading nvidia_cuda_cupti_cu12-12.4.127-py3-none-manylinux2014_x86_64.whl (13.8 MB)\n",
            "\u001b[2K   \u001b[90m━━━━━━━━━━━━━━━━━━━━━━━━━━━━━━━━━━━━━━━━\u001b[0m \u001b[32m13.8/13.8 MB\u001b[0m \u001b[31m114.7 MB/s\u001b[0m eta \u001b[36m0:00:00\u001b[0m\n",
            "\u001b[?25hDownloading nvidia_cuda_nvrtc_cu12-12.4.127-py3-none-manylinux2014_x86_64.whl (24.6 MB)\n",
            "\u001b[2K   \u001b[90m━━━━━━━━━━━━━━━━━━━━━━━━━━━━━━━━━━━━━━━━\u001b[0m \u001b[32m24.6/24.6 MB\u001b[0m \u001b[31m85.3 MB/s\u001b[0m eta \u001b[36m0:00:00\u001b[0m\n",
            "\u001b[?25hDownloading nvidia_cuda_runtime_cu12-12.4.127-py3-none-manylinux2014_x86_64.whl (883 kB)\n",
            "\u001b[2K   \u001b[90m━━━━━━━━━━━━━━━━━━━━━━━━━━━━━━━━━━━━━━━━\u001b[0m \u001b[32m883.7/883.7 kB\u001b[0m \u001b[31m52.3 MB/s\u001b[0m eta \u001b[36m0:00:00\u001b[0m\n",
            "\u001b[?25hDownloading nvidia_cudnn_cu12-9.1.0.70-py3-none-manylinux2014_x86_64.whl (664.8 MB)\n",
            "\u001b[2K   \u001b[90m━━━━━━━━━━━━━━━━━━━━━━━━━━━━━━━━━━━━━━━━\u001b[0m \u001b[32m664.8/664.8 MB\u001b[0m \u001b[31m1.3 MB/s\u001b[0m eta \u001b[36m0:00:00\u001b[0m\n",
            "\u001b[?25hDownloading nvidia_cufft_cu12-11.2.1.3-py3-none-manylinux2014_x86_64.whl (211.5 MB)\n",
            "\u001b[2K   \u001b[90m━━━━━━━━━━━━━━━━━━━━━━━━━━━━━━━━━━━━━━━━\u001b[0m \u001b[32m211.5/211.5 MB\u001b[0m \u001b[31m5.9 MB/s\u001b[0m eta \u001b[36m0:00:00\u001b[0m\n",
            "\u001b[?25hDownloading nvidia_curand_cu12-10.3.5.147-py3-none-manylinux2014_x86_64.whl (56.3 MB)\n",
            "\u001b[2K   \u001b[90m━━━━━━━━━━━━━━━━━━━━━━━━━━━━━━━━━━━━━━━━\u001b[0m \u001b[32m56.3/56.3 MB\u001b[0m \u001b[31m15.6 MB/s\u001b[0m eta \u001b[36m0:00:00\u001b[0m\n",
            "\u001b[?25hDownloading nvidia_cusolver_cu12-11.6.1.9-py3-none-manylinux2014_x86_64.whl (127.9 MB)\n",
            "\u001b[2K   \u001b[90m━━━━━━━━━━━━━━━━━━━━━━━━━━━━━━━━━━━━━━━━\u001b[0m \u001b[32m127.9/127.9 MB\u001b[0m \u001b[31m7.9 MB/s\u001b[0m eta \u001b[36m0:00:00\u001b[0m\n",
            "\u001b[?25hDownloading nvidia_cusparse_cu12-12.3.1.170-py3-none-manylinux2014_x86_64.whl (207.5 MB)\n",
            "\u001b[2K   \u001b[90m━━━━━━━━━━━━━━━━━━━━━━━━━━━━━━━━━━━━━━━━\u001b[0m \u001b[32m207.5/207.5 MB\u001b[0m \u001b[31m6.1 MB/s\u001b[0m eta \u001b[36m0:00:00\u001b[0m\n",
            "\u001b[?25hDownloading nvidia_nvjitlink_cu12-12.4.127-py3-none-manylinux2014_x86_64.whl (21.1 MB)\n",
            "\u001b[2K   \u001b[90m━━━━━━━━━━━━━━━━━━━━━━━━━━━━━━━━━━━━━━━━\u001b[0m \u001b[32m21.1/21.1 MB\u001b[0m \u001b[31m83.7 MB/s\u001b[0m eta \u001b[36m0:00:00\u001b[0m\n",
            "\u001b[?25hInstalling collected packages: nvidia-nvjitlink-cu12, nvidia-curand-cu12, nvidia-cufft-cu12, nvidia-cuda-runtime-cu12, nvidia-cuda-nvrtc-cu12, nvidia-cuda-cupti-cu12, nvidia-cublas-cu12, nvidia-cusparse-cu12, nvidia-cudnn-cu12, nvidia-cusolver-cu12\n",
            "  Attempting uninstall: nvidia-nvjitlink-cu12\n",
            "    Found existing installation: nvidia-nvjitlink-cu12 12.5.82\n",
            "    Uninstalling nvidia-nvjitlink-cu12-12.5.82:\n",
            "      Successfully uninstalled nvidia-nvjitlink-cu12-12.5.82\n",
            "  Attempting uninstall: nvidia-curand-cu12\n",
            "    Found existing installation: nvidia-curand-cu12 10.3.6.82\n",
            "    Uninstalling nvidia-curand-cu12-10.3.6.82:\n",
            "      Successfully uninstalled nvidia-curand-cu12-10.3.6.82\n",
            "  Attempting uninstall: nvidia-cufft-cu12\n",
            "    Found existing installation: nvidia-cufft-cu12 11.2.3.61\n",
            "    Uninstalling nvidia-cufft-cu12-11.2.3.61:\n",
            "      Successfully uninstalled nvidia-cufft-cu12-11.2.3.61\n",
            "  Attempting uninstall: nvidia-cuda-runtime-cu12\n",
            "    Found existing installation: nvidia-cuda-runtime-cu12 12.5.82\n",
            "    Uninstalling nvidia-cuda-runtime-cu12-12.5.82:\n",
            "      Successfully uninstalled nvidia-cuda-runtime-cu12-12.5.82\n",
            "  Attempting uninstall: nvidia-cuda-nvrtc-cu12\n",
            "    Found existing installation: nvidia-cuda-nvrtc-cu12 12.5.82\n",
            "    Uninstalling nvidia-cuda-nvrtc-cu12-12.5.82:\n",
            "      Successfully uninstalled nvidia-cuda-nvrtc-cu12-12.5.82\n",
            "  Attempting uninstall: nvidia-cuda-cupti-cu12\n",
            "    Found existing installation: nvidia-cuda-cupti-cu12 12.5.82\n",
            "    Uninstalling nvidia-cuda-cupti-cu12-12.5.82:\n",
            "      Successfully uninstalled nvidia-cuda-cupti-cu12-12.5.82\n",
            "  Attempting uninstall: nvidia-cublas-cu12\n",
            "    Found existing installation: nvidia-cublas-cu12 12.5.3.2\n",
            "    Uninstalling nvidia-cublas-cu12-12.5.3.2:\n",
            "      Successfully uninstalled nvidia-cublas-cu12-12.5.3.2\n",
            "  Attempting uninstall: nvidia-cusparse-cu12\n",
            "    Found existing installation: nvidia-cusparse-cu12 12.5.1.3\n",
            "    Uninstalling nvidia-cusparse-cu12-12.5.1.3:\n",
            "      Successfully uninstalled nvidia-cusparse-cu12-12.5.1.3\n",
            "  Attempting uninstall: nvidia-cudnn-cu12\n",
            "    Found existing installation: nvidia-cudnn-cu12 9.3.0.75\n",
            "    Uninstalling nvidia-cudnn-cu12-9.3.0.75:\n",
            "      Successfully uninstalled nvidia-cudnn-cu12-9.3.0.75\n",
            "  Attempting uninstall: nvidia-cusolver-cu12\n",
            "    Found existing installation: nvidia-cusolver-cu12 11.6.3.83\n",
            "    Uninstalling nvidia-cusolver-cu12-11.6.3.83:\n",
            "      Successfully uninstalled nvidia-cusolver-cu12-11.6.3.83\n",
            "Successfully installed nvidia-cublas-cu12-12.4.5.8 nvidia-cuda-cupti-cu12-12.4.127 nvidia-cuda-nvrtc-cu12-12.4.127 nvidia-cuda-runtime-cu12-12.4.127 nvidia-cudnn-cu12-9.1.0.70 nvidia-cufft-cu12-11.2.1.3 nvidia-curand-cu12-10.3.5.147 nvidia-cusolver-cu12-11.6.1.9 nvidia-cusparse-cu12-12.3.1.170 nvidia-nvjitlink-cu12-12.4.127\n",
            "Collecting bert-score\n",
            "  Downloading bert_score-0.3.13-py3-none-any.whl.metadata (15 kB)\n",
            "Requirement already satisfied: torch>=1.0.0 in /usr/local/lib/python3.11/dist-packages (from bert-score) (2.6.0+cu124)\n",
            "Requirement already satisfied: pandas>=1.0.1 in /usr/local/lib/python3.11/dist-packages (from bert-score) (2.2.2)\n",
            "Requirement already satisfied: transformers>=3.0.0 in /usr/local/lib/python3.11/dist-packages (from bert-score) (4.51.3)\n",
            "Requirement already satisfied: numpy in /usr/local/lib/python3.11/dist-packages (from bert-score) (2.0.2)\n",
            "Requirement already satisfied: requests in /usr/local/lib/python3.11/dist-packages (from bert-score) (2.32.3)\n",
            "Requirement already satisfied: tqdm>=4.31.1 in /usr/local/lib/python3.11/dist-packages (from bert-score) (4.67.1)\n",
            "Requirement already satisfied: matplotlib in /usr/local/lib/python3.11/dist-packages (from bert-score) (3.10.0)\n",
            "Requirement already satisfied: packaging>=20.9 in /usr/local/lib/python3.11/dist-packages (from bert-score) (24.2)\n",
            "Requirement already satisfied: python-dateutil>=2.8.2 in /usr/local/lib/python3.11/dist-packages (from pandas>=1.0.1->bert-score) (2.9.0.post0)\n",
            "Requirement already satisfied: pytz>=2020.1 in /usr/local/lib/python3.11/dist-packages (from pandas>=1.0.1->bert-score) (2025.2)\n",
            "Requirement already satisfied: tzdata>=2022.7 in /usr/local/lib/python3.11/dist-packages (from pandas>=1.0.1->bert-score) (2025.2)\n",
            "Requirement already satisfied: filelock in /usr/local/lib/python3.11/dist-packages (from torch>=1.0.0->bert-score) (3.18.0)\n",
            "Requirement already satisfied: typing-extensions>=4.10.0 in /usr/local/lib/python3.11/dist-packages (from torch>=1.0.0->bert-score) (4.13.2)\n",
            "Requirement already satisfied: networkx in /usr/local/lib/python3.11/dist-packages (from torch>=1.0.0->bert-score) (3.4.2)\n",
            "Requirement already satisfied: jinja2 in /usr/local/lib/python3.11/dist-packages (from torch>=1.0.0->bert-score) (3.1.6)\n",
            "Requirement already satisfied: fsspec in /usr/local/lib/python3.11/dist-packages (from torch>=1.0.0->bert-score) (2025.3.2)\n",
            "Requirement already satisfied: nvidia-cuda-nvrtc-cu12==12.4.127 in /usr/local/lib/python3.11/dist-packages (from torch>=1.0.0->bert-score) (12.4.127)\n",
            "Requirement already satisfied: nvidia-cuda-runtime-cu12==12.4.127 in /usr/local/lib/python3.11/dist-packages (from torch>=1.0.0->bert-score) (12.4.127)\n",
            "Requirement already satisfied: nvidia-cuda-cupti-cu12==12.4.127 in /usr/local/lib/python3.11/dist-packages (from torch>=1.0.0->bert-score) (12.4.127)\n",
            "Requirement already satisfied: nvidia-cudnn-cu12==9.1.0.70 in /usr/local/lib/python3.11/dist-packages (from torch>=1.0.0->bert-score) (9.1.0.70)\n",
            "Requirement already satisfied: nvidia-cublas-cu12==12.4.5.8 in /usr/local/lib/python3.11/dist-packages (from torch>=1.0.0->bert-score) (12.4.5.8)\n",
            "Requirement already satisfied: nvidia-cufft-cu12==11.2.1.3 in /usr/local/lib/python3.11/dist-packages (from torch>=1.0.0->bert-score) (11.2.1.3)\n",
            "Requirement already satisfied: nvidia-curand-cu12==10.3.5.147 in /usr/local/lib/python3.11/dist-packages (from torch>=1.0.0->bert-score) (10.3.5.147)\n",
            "Requirement already satisfied: nvidia-cusolver-cu12==11.6.1.9 in /usr/local/lib/python3.11/dist-packages (from torch>=1.0.0->bert-score) (11.6.1.9)\n",
            "Requirement already satisfied: nvidia-cusparse-cu12==12.3.1.170 in /usr/local/lib/python3.11/dist-packages (from torch>=1.0.0->bert-score) (12.3.1.170)\n",
            "Requirement already satisfied: nvidia-cusparselt-cu12==0.6.2 in /usr/local/lib/python3.11/dist-packages (from torch>=1.0.0->bert-score) (0.6.2)\n",
            "Requirement already satisfied: nvidia-nccl-cu12==2.21.5 in /usr/local/lib/python3.11/dist-packages (from torch>=1.0.0->bert-score) (2.21.5)\n",
            "Requirement already satisfied: nvidia-nvtx-cu12==12.4.127 in /usr/local/lib/python3.11/dist-packages (from torch>=1.0.0->bert-score) (12.4.127)\n",
            "Requirement already satisfied: nvidia-nvjitlink-cu12==12.4.127 in /usr/local/lib/python3.11/dist-packages (from torch>=1.0.0->bert-score) (12.4.127)\n",
            "Requirement already satisfied: triton==3.2.0 in /usr/local/lib/python3.11/dist-packages (from torch>=1.0.0->bert-score) (3.2.0)\n",
            "Requirement already satisfied: sympy==1.13.1 in /usr/local/lib/python3.11/dist-packages (from torch>=1.0.0->bert-score) (1.13.1)\n",
            "Requirement already satisfied: mpmath<1.4,>=1.1.0 in /usr/local/lib/python3.11/dist-packages (from sympy==1.13.1->torch>=1.0.0->bert-score) (1.3.0)\n",
            "Requirement already satisfied: huggingface-hub<1.0,>=0.30.0 in /usr/local/lib/python3.11/dist-packages (from transformers>=3.0.0->bert-score) (0.31.2)\n",
            "Requirement already satisfied: pyyaml>=5.1 in /usr/local/lib/python3.11/dist-packages (from transformers>=3.0.0->bert-score) (6.0.2)\n",
            "Requirement already satisfied: regex!=2019.12.17 in /usr/local/lib/python3.11/dist-packages (from transformers>=3.0.0->bert-score) (2024.11.6)\n",
            "Requirement already satisfied: tokenizers<0.22,>=0.21 in /usr/local/lib/python3.11/dist-packages (from transformers>=3.0.0->bert-score) (0.21.1)\n",
            "Requirement already satisfied: safetensors>=0.4.3 in /usr/local/lib/python3.11/dist-packages (from transformers>=3.0.0->bert-score) (0.5.3)\n",
            "Requirement already satisfied: contourpy>=1.0.1 in /usr/local/lib/python3.11/dist-packages (from matplotlib->bert-score) (1.3.2)\n",
            "Requirement already satisfied: cycler>=0.10 in /usr/local/lib/python3.11/dist-packages (from matplotlib->bert-score) (0.12.1)\n",
            "Requirement already satisfied: fonttools>=4.22.0 in /usr/local/lib/python3.11/dist-packages (from matplotlib->bert-score) (4.58.0)\n",
            "Requirement already satisfied: kiwisolver>=1.3.1 in /usr/local/lib/python3.11/dist-packages (from matplotlib->bert-score) (1.4.8)\n",
            "Requirement already satisfied: pillow>=8 in /usr/local/lib/python3.11/dist-packages (from matplotlib->bert-score) (11.2.1)\n",
            "Requirement already satisfied: pyparsing>=2.3.1 in /usr/local/lib/python3.11/dist-packages (from matplotlib->bert-score) (3.2.3)\n",
            "Requirement already satisfied: charset-normalizer<4,>=2 in /usr/local/lib/python3.11/dist-packages (from requests->bert-score) (3.4.2)\n",
            "Requirement already satisfied: idna<4,>=2.5 in /usr/local/lib/python3.11/dist-packages (from requests->bert-score) (3.10)\n",
            "Requirement already satisfied: urllib3<3,>=1.21.1 in /usr/local/lib/python3.11/dist-packages (from requests->bert-score) (2.4.0)\n",
            "Requirement already satisfied: certifi>=2017.4.17 in /usr/local/lib/python3.11/dist-packages (from requests->bert-score) (2025.4.26)\n",
            "Requirement already satisfied: six>=1.5 in /usr/local/lib/python3.11/dist-packages (from python-dateutil>=2.8.2->pandas>=1.0.1->bert-score) (1.17.0)\n",
            "Requirement already satisfied: MarkupSafe>=2.0 in /usr/local/lib/python3.11/dist-packages (from jinja2->torch>=1.0.0->bert-score) (3.0.2)\n",
            "Downloading bert_score-0.3.13-py3-none-any.whl (61 kB)\n",
            "\u001b[2K   \u001b[90m━━━━━━━━━━━━━━━━━━━━━━━━━━━━━━━━━━━━━━━━\u001b[0m \u001b[32m61.1/61.1 kB\u001b[0m \u001b[31m5.8 MB/s\u001b[0m eta \u001b[36m0:00:00\u001b[0m\n",
            "\u001b[?25hInstalling collected packages: bert-score\n",
            "Successfully installed bert-score-0.3.13\n"
          ]
        }
      ],
      "execution_count": null
    },
    {
      "cell_type": "code",
      "source": [
        "import json\n",
        "\n",
        "with open(\"/content/test.json\", \"r\") as f:\n",
        "    questions_data = json.load(f)"
      ],
      "metadata": {
        "trusted": true,
        "execution": {
          "iopub.status.busy": "2025-05-18T11:02:42.770234Z",
          "iopub.execute_input": "2025-05-18T11:02:42.770464Z",
          "iopub.status.idle": "2025-05-18T11:02:42.801405Z",
          "shell.execute_reply.started": "2025-05-18T11:02:42.770444Z",
          "shell.execute_reply": "2025-05-18T11:02:42.800914Z"
        },
        "id": "2IBMajgCZrjI"
      },
      "outputs": [],
      "execution_count": 8
    },
    {
      "cell_type": "code",
      "source": [
        "from pathlib import Path\n",
        "\n",
        "image_root = Path(\"/content/images/small\")"
      ],
      "metadata": {
        "trusted": true,
        "execution": {
          "iopub.status.busy": "2025-05-18T11:03:57.120040Z",
          "iopub.execute_input": "2025-05-18T11:03:57.120780Z",
          "iopub.status.idle": "2025-05-18T11:03:57.124417Z",
          "shell.execute_reply.started": "2025-05-18T11:03:57.120753Z",
          "shell.execute_reply": "2025-05-18T11:03:57.123612Z"
        },
        "id": "LQgncYG9ZrjI"
      },
      "outputs": [],
      "execution_count": 9
    },
    {
      "cell_type": "markdown",
      "source": [
        "# **Baseline models**"
      ],
      "metadata": {
        "id": "HlHKpdLbZrjI"
      }
    },
    {
      "cell_type": "markdown",
      "source": [
        "# **1. BLIP**"
      ],
      "metadata": {
        "id": "XDrfc21dZrjI"
      }
    },
    {
      "cell_type": "code",
      "source": [
        "# Used a pipeline as a high-level helper\n",
        "from transformers import pipeline\n",
        "\n",
        "pipe = pipeline(\"visual-question-answering\", model=\"Salesforce/blip-vqa-base\")"
      ],
      "metadata": {
        "trusted": true,
        "execution": {
          "iopub.status.busy": "2025-05-18T11:04:02.305797Z",
          "iopub.execute_input": "2025-05-18T11:04:02.306323Z",
          "iopub.status.idle": "2025-05-18T11:04:39.883099Z",
          "shell.execute_reply.started": "2025-05-18T11:04:02.306296Z",
          "shell.execute_reply": "2025-05-18T11:04:39.882384Z"
        },
        "colab": {
          "referenced_widgets": [
            "d3f1ed23729741a3a7bfa1e5817502c1",
            "b536349a987a4d48968ce535d92100ff",
            "09ee4588677049e3a8a59e3748ab4925",
            "88b62e239cf344cbb6767134d677cc20",
            "800f7bd6cd1e4c9ab75d993babd4b3c7",
            "f8478688094845c3afa313aea4a82a7b",
            "08064d11d8854f5bbaa4a04fc7798667"
          ]
        },
        "id": "UVOb3EPNZrjI",
        "outputId": "8c9250ff-8477-45ef-b641-39ecb6de2cbf"
      },
      "outputs": [
        {
          "name": "stderr",
          "text": "2025-05-18 11:04:11.191804: E external/local_xla/xla/stream_executor/cuda/cuda_fft.cc:477] Unable to register cuFFT factory: Attempting to register factory for plugin cuFFT when one has already been registered\nWARNING: All log messages before absl::InitializeLog() is called are written to STDERR\nE0000 00:00:1747566251.416138      31 cuda_dnn.cc:8310] Unable to register cuDNN factory: Attempting to register factory for plugin cuDNN when one has already been registered\nE0000 00:00:1747566251.480877      31 cuda_blas.cc:1418] Unable to register cuBLAS factory: Attempting to register factory for plugin cuBLAS when one has already been registered\n",
          "output_type": "stream"
        },
        {
          "output_type": "display_data",
          "data": {
            "text/plain": "config.json:   0%|          | 0.00/4.56k [00:00<?, ?B/s]",
            "application/vnd.jupyter.widget-view+json": {
              "version_major": 2,
              "version_minor": 0,
              "model_id": "d3f1ed23729741a3a7bfa1e5817502c1"
            }
          },
          "metadata": {}
        },
        {
          "output_type": "display_data",
          "data": {
            "text/plain": "model.safetensors:   0%|          | 0.00/1.54G [00:00<?, ?B/s]",
            "application/vnd.jupyter.widget-view+json": {
              "version_major": 2,
              "version_minor": 0,
              "model_id": "b536349a987a4d48968ce535d92100ff"
            }
          },
          "metadata": {}
        },
        {
          "output_type": "display_data",
          "data": {
            "text/plain": "tokenizer_config.json:   0%|          | 0.00/592 [00:00<?, ?B/s]",
            "application/vnd.jupyter.widget-view+json": {
              "version_major": 2,
              "version_minor": 0,
              "model_id": "09ee4588677049e3a8a59e3748ab4925"
            }
          },
          "metadata": {}
        },
        {
          "output_type": "display_data",
          "data": {
            "text/plain": "vocab.txt:   0%|          | 0.00/232k [00:00<?, ?B/s]",
            "application/vnd.jupyter.widget-view+json": {
              "version_major": 2,
              "version_minor": 0,
              "model_id": "88b62e239cf344cbb6767134d677cc20"
            }
          },
          "metadata": {}
        },
        {
          "output_type": "display_data",
          "data": {
            "text/plain": "tokenizer.json:   0%|          | 0.00/711k [00:00<?, ?B/s]",
            "application/vnd.jupyter.widget-view+json": {
              "version_major": 2,
              "version_minor": 0,
              "model_id": "800f7bd6cd1e4c9ab75d993babd4b3c7"
            }
          },
          "metadata": {}
        },
        {
          "output_type": "display_data",
          "data": {
            "text/plain": "special_tokens_map.json:   0%|          | 0.00/125 [00:00<?, ?B/s]",
            "application/vnd.jupyter.widget-view+json": {
              "version_major": 2,
              "version_minor": 0,
              "model_id": "f8478688094845c3afa313aea4a82a7b"
            }
          },
          "metadata": {}
        },
        {
          "output_type": "display_data",
          "data": {
            "text/plain": "preprocessor_config.json:   0%|          | 0.00/445 [00:00<?, ?B/s]",
            "application/vnd.jupyter.widget-view+json": {
              "version_major": 2,
              "version_minor": 0,
              "model_id": "08064d11d8854f5bbaa4a04fc7798667"
            }
          },
          "metadata": {}
        },
        {
          "name": "stderr",
          "text": "Using a slow image processor as `use_fast` is unset and a slow processor was saved with this model. `use_fast=True` will be the default behavior in v4.52, even if the model was saved with a slow processor. This will result in minor differences in outputs. You'll still be able to use a slow processor with `use_fast=False`.\nDevice set to use cuda:0\n",
          "output_type": "stream"
        }
      ],
      "execution_count": null
    },
    {
      "cell_type": "code",
      "source": [
        "from PIL import Image\n",
        "from tqdm import tqdm\n",
        "\n",
        "predictions = []\n",
        "\n",
        "\n",
        "for img_path, qas in tqdm(list(questions_data.items())):\n",
        "    full_img_path = image_root / Path(img_path).relative_to(\"images/small\")\n",
        "    image = Image.open(full_img_path).convert(\"RGB\")\n",
        "\n",
        "    for qa in qas:\n",
        "        ground_truth = qa[\"answer\"]\n",
        "        question = qa[\"question\"] + \" Answer with only one word.\"\n",
        "\n",
        "        output = pipe(image, question)\n",
        "        split_words = output[0]['answer'].strip().split()\n",
        "        if len(split_words):\n",
        "            predicted_answer = split_words[0]  # Take only the first word\n",
        "        else:\n",
        "            predicted_answer = ''\n",
        "\n",
        "        predictions.append({\n",
        "            \"question\": question,\n",
        "            \"ground_truth\": ground_truth.lower(),\n",
        "            \"prediction\": predicted_answer.lower()\n",
        "        })\n"
      ],
      "metadata": {
        "trusted": true,
        "execution": {
          "iopub.status.busy": "2025-05-18T11:04:46.517232Z",
          "iopub.execute_input": "2025-05-18T11:04:46.517904Z",
          "iopub.status.idle": "2025-05-18T11:14:28.713851Z",
          "shell.execute_reply.started": "2025-05-18T11:04:46.517871Z",
          "shell.execute_reply": "2025-05-18T11:14:28.713236Z"
        },
        "id": "xxXPnRf4ZrjI",
        "outputId": "988503ce-0aee-46a7-8582-28b68a9dcc39"
      },
      "outputs": [
        {
          "name": "stderr",
          "text": "  0%|          | 5/2067 [00:01<08:58,  3.83it/s]You seem to be using the pipelines sequentially on GPU. In order to maximize efficiency please use a dataset\n100%|██████████| 2067/2067 [09:42<00:00,  3.55it/s]\n",
          "output_type": "stream"
        }
      ],
      "execution_count": null
    },
    {
      "cell_type": "markdown",
      "source": [
        "**exact matching score**"
      ],
      "metadata": {
        "id": "u-ckwhJjZrjJ"
      }
    },
    {
      "cell_type": "code",
      "source": [
        "exact_matches = 0\n",
        "total = len(predictions)\n",
        "\n",
        "for pred in predictions:\n",
        "    reference = pred[\"ground_truth\"].lower().strip()\n",
        "    hypothesis = pred[\"prediction\"].lower().strip()\n",
        "\n",
        "    if reference == hypothesis:\n",
        "        exact_matches += 1\n",
        "\n",
        "exact_match_acc = exact_matches / total\n",
        "print(f\"Exact Match Accuracy: {exact_match_acc * 100:.2f}%\")"
      ],
      "metadata": {
        "trusted": true,
        "execution": {
          "iopub.status.busy": "2025-05-18T11:48:26.404873Z",
          "iopub.execute_input": "2025-05-18T11:48:26.405624Z",
          "iopub.status.idle": "2025-05-18T11:48:26.413690Z",
          "shell.execute_reply.started": "2025-05-18T11:48:26.405600Z",
          "shell.execute_reply": "2025-05-18T11:48:26.412896Z"
        },
        "id": "nNE9I6nvZrjJ",
        "outputId": "5239b99f-8eec-472b-ef51-e873a256ec08"
      },
      "outputs": [
        {
          "name": "stdout",
          "text": "Exact Match Accuracy: 49.53%\n",
          "output_type": "stream"
        }
      ],
      "execution_count": null
    },
    {
      "cell_type": "markdown",
      "source": [
        "**METEOR score**"
      ],
      "metadata": {
        "id": "QNAeQJhYZrjJ"
      }
    },
    {
      "cell_type": "code",
      "source": [
        "import nltk\n",
        "nltk.download('wordnet')\n",
        "nltk.download('punkt')"
      ],
      "metadata": {
        "trusted": true,
        "execution": {
          "iopub.status.busy": "2025-05-17T15:47:45.900804Z",
          "iopub.execute_input": "2025-05-17T15:47:45.901107Z",
          "iopub.status.idle": "2025-05-17T15:47:47.825572Z",
          "shell.execute_reply.started": "2025-05-17T15:47:45.901086Z",
          "shell.execute_reply": "2025-05-17T15:47:47.824846Z"
        },
        "id": "bt-b2v5oZrjJ",
        "outputId": "512ffb73-579b-4f69-8544-1819a13e9e62"
      },
      "outputs": [
        {
          "name": "stderr",
          "text": "[nltk_data] Downloading package wordnet to /usr/share/nltk_data...\n[nltk_data]   Package wordnet is already up-to-date!\n[nltk_data] Downloading package punkt to /usr/share/nltk_data...\n[nltk_data]   Package punkt is already up-to-date!\n",
          "output_type": "stream"
        },
        {
          "execution_count": 11,
          "output_type": "execute_result",
          "data": {
            "text/plain": "True"
          },
          "metadata": {}
        }
      ],
      "execution_count": null
    },
    {
      "cell_type": "code",
      "source": [
        "from nltk.translate.meteor_score import single_meteor_score\n",
        "from nltk.tokenize import word_tokenize\n",
        "\n",
        "preds = [item[\"prediction\"] for item in predictions]\n",
        "gts = [item[\"ground_truth\"] for item in predictions]\n",
        "\n",
        "meteor_scores = [\n",
        "    single_meteor_score(word_tokenize(gt), word_tokenize(pred))\n",
        "    for gt, pred in zip(gts, preds)\n",
        "]\n",
        "\n",
        "average_meteor = sum(meteor_scores) / len(meteor_scores)\n",
        "print(f\"Average METEOR score: {average_meteor:.4f}\")"
      ],
      "metadata": {
        "trusted": true,
        "execution": {
          "iopub.status.busy": "2025-05-17T15:47:51.598915Z",
          "iopub.execute_input": "2025-05-17T15:47:51.599210Z",
          "iopub.status.idle": "2025-05-17T15:47:55.466707Z",
          "shell.execute_reply.started": "2025-05-17T15:47:51.599192Z",
          "shell.execute_reply": "2025-05-17T15:47:55.465945Z"
        },
        "id": "g5O-IxvzZrjJ",
        "outputId": "d5fb4c94-d305-474d-d0a1-be5ca0b38836"
      },
      "outputs": [
        {
          "name": "stdout",
          "text": "Average METEOR score: 0.2636\n",
          "output_type": "stream"
        }
      ],
      "execution_count": null
    },
    {
      "cell_type": "markdown",
      "source": [
        "**BERTScore**"
      ],
      "metadata": {
        "id": "USnhmoPZZrjJ"
      }
    },
    {
      "cell_type": "code",
      "source": [
        "from bert_score import score\n",
        "\n",
        "preds = [item[\"prediction\"] for item in predictions]\n",
        "gts = [item[\"ground_truth\"].lower() for item in predictions]\n",
        "\n",
        "P, R, F1 = score(preds, gts, lang=\"en\", verbose=True)\n",
        "\n",
        "print(f\"Average BERTScore F1: {F1.mean().item():.4f}\")"
      ],
      "metadata": {
        "trusted": true,
        "execution": {
          "iopub.status.busy": "2025-05-17T15:51:08.768885Z",
          "iopub.execute_input": "2025-05-17T15:51:08.769222Z",
          "iopub.status.idle": "2025-05-17T15:51:23.330545Z",
          "shell.execute_reply.started": "2025-05-17T15:51:08.769197Z",
          "shell.execute_reply": "2025-05-17T15:51:23.329779Z"
        },
        "colab": {
          "referenced_widgets": [
            "b99f9a60ca704af9953c949dd689073e",
            "ddf1d1ec433945eaa093352deccdbfde",
            "3eae9f70752b44558be95c9901ee391f",
            "baca618025014e91ac58e46d6e396c3c",
            "dd708a451f1d4c3695c59af0594ee742",
            "704f8f1cf9f040a090e4243f746601bd",
            "86dcd134812f4294a8408de130df67a6",
            "b45d6e0b011743de8ce6531f5ac2d309"
          ]
        },
        "id": "GyBoyieuZrjJ",
        "outputId": "4c761090-3b23-480f-9bb0-a40cc2f4db14"
      },
      "outputs": [
        {
          "output_type": "display_data",
          "data": {
            "text/plain": "tokenizer_config.json:   0%|          | 0.00/25.0 [00:00<?, ?B/s]",
            "application/vnd.jupyter.widget-view+json": {
              "version_major": 2,
              "version_minor": 0,
              "model_id": "b99f9a60ca704af9953c949dd689073e"
            }
          },
          "metadata": {}
        },
        {
          "output_type": "display_data",
          "data": {
            "text/plain": "config.json:   0%|          | 0.00/482 [00:00<?, ?B/s]",
            "application/vnd.jupyter.widget-view+json": {
              "version_major": 2,
              "version_minor": 0,
              "model_id": "ddf1d1ec433945eaa093352deccdbfde"
            }
          },
          "metadata": {}
        },
        {
          "output_type": "display_data",
          "data": {
            "text/plain": "vocab.json:   0%|          | 0.00/899k [00:00<?, ?B/s]",
            "application/vnd.jupyter.widget-view+json": {
              "version_major": 2,
              "version_minor": 0,
              "model_id": "3eae9f70752b44558be95c9901ee391f"
            }
          },
          "metadata": {}
        },
        {
          "output_type": "display_data",
          "data": {
            "text/plain": "merges.txt:   0%|          | 0.00/456k [00:00<?, ?B/s]",
            "application/vnd.jupyter.widget-view+json": {
              "version_major": 2,
              "version_minor": 0,
              "model_id": "baca618025014e91ac58e46d6e396c3c"
            }
          },
          "metadata": {}
        },
        {
          "output_type": "display_data",
          "data": {
            "text/plain": "tokenizer.json:   0%|          | 0.00/1.36M [00:00<?, ?B/s]",
            "application/vnd.jupyter.widget-view+json": {
              "version_major": 2,
              "version_minor": 0,
              "model_id": "dd708a451f1d4c3695c59af0594ee742"
            }
          },
          "metadata": {}
        },
        {
          "name": "stderr",
          "text": "Xet Storage is enabled for this repo, but the 'hf_xet' package is not installed. Falling back to regular HTTP download. For better performance, install the package with: `pip install huggingface_hub[hf_xet]` or `pip install hf_xet`\n",
          "output_type": "stream"
        },
        {
          "output_type": "display_data",
          "data": {
            "text/plain": "model.safetensors:   0%|          | 0.00/1.42G [00:00<?, ?B/s]",
            "application/vnd.jupyter.widget-view+json": {
              "version_major": 2,
              "version_minor": 0,
              "model_id": "704f8f1cf9f040a090e4243f746601bd"
            }
          },
          "metadata": {}
        },
        {
          "name": "stderr",
          "text": "Some weights of RobertaModel were not initialized from the model checkpoint at roberta-large and are newly initialized: ['pooler.dense.bias', 'pooler.dense.weight']\nYou should probably TRAIN this model on a down-stream task to be able to use it for predictions and inference.\n",
          "output_type": "stream"
        },
        {
          "name": "stdout",
          "text": "calculating scores...\ncomputing bert embedding.\n",
          "output_type": "stream"
        },
        {
          "output_type": "display_data",
          "data": {
            "text/plain": "  0%|          | 0/17 [00:00<?, ?it/s]",
            "application/vnd.jupyter.widget-view+json": {
              "version_major": 2,
              "version_minor": 0,
              "model_id": "86dcd134812f4294a8408de130df67a6"
            }
          },
          "metadata": {}
        },
        {
          "name": "stdout",
          "text": "computing greedy matching.\n",
          "output_type": "stream"
        },
        {
          "output_type": "display_data",
          "data": {
            "text/plain": "  0%|          | 0/109 [00:00<?, ?it/s]",
            "application/vnd.jupyter.widget-view+json": {
              "version_major": 2,
              "version_minor": 0,
              "model_id": "b45d6e0b011743de8ce6531f5ac2d309"
            }
          },
          "metadata": {}
        },
        {
          "name": "stderr",
          "text": "Warning: Empty candidate sentence detected; setting raw BERTscores to 0.\nWarning: Empty candidate sentence detected; setting raw BERTscores to 0.\nWarning: Empty candidate sentence detected; setting raw BERTscores to 0.\nWarning: Empty candidate sentence detected; setting raw BERTscores to 0.\nWarning: Empty candidate sentence detected; setting raw BERTscores to 0.\nWarning: Empty candidate sentence detected; setting raw BERTscores to 0.\nWarning: Empty candidate sentence detected; setting raw BERTscores to 0.\nWarning: Empty candidate sentence detected; setting raw BERTscores to 0.\nWarning: Empty candidate sentence detected; setting raw BERTscores to 0.\nWarning: Empty candidate sentence detected; setting raw BERTscores to 0.\nWarning: Empty candidate sentence detected; setting raw BERTscores to 0.\nWarning: Empty candidate sentence detected; setting raw BERTscores to 0.\nWarning: Empty candidate sentence detected; setting raw BERTscores to 0.\nWarning: Empty candidate sentence detected; setting raw BERTscores to 0.\nWarning: Empty candidate sentence detected; setting raw BERTscores to 0.\n",
          "output_type": "stream"
        },
        {
          "name": "stdout",
          "text": "done in 2.86 seconds, 2427.10 sentences/sec\nAverage BERTScore F1: 0.9792\n",
          "output_type": "stream"
        }
      ],
      "execution_count": null
    },
    {
      "cell_type": "markdown",
      "source": [
        "**BLEU Score**"
      ],
      "metadata": {
        "id": "6sHyngPRZrjJ"
      }
    },
    {
      "cell_type": "code",
      "source": [
        "from nltk.translate.bleu_score import sentence_bleu, SmoothingFunction\n",
        "from nltk.tokenize import word_tokenize\n",
        "import nltk\n",
        "\n",
        "nltk.download('punkt')\n",
        "\n",
        "smoothie = SmoothingFunction().method4\n",
        "\n",
        "bleu_scores = []\n",
        "\n",
        "for item in predictions:\n",
        "    reference = word_tokenize(item[\"ground_truth\"].lower())\n",
        "    hypothesis = word_tokenize(item[\"prediction\"].lower())\n",
        "\n",
        "    # BLEU score expects a list of references, each being a list of tokens\n",
        "    score = sentence_bleu([reference], hypothesis, smoothing_function=smoothie)\n",
        "    bleu_scores.append(score)\n",
        "\n",
        "average_bleu = sum(bleu_scores) / len(bleu_scores)\n",
        "print(f\"Average BLEU Score: {average_bleu:.4f}\")"
      ],
      "metadata": {
        "trusted": true,
        "execution": {
          "iopub.status.busy": "2025-05-17T15:48:13.974113Z",
          "iopub.execute_input": "2025-05-17T15:48:13.974785Z",
          "iopub.status.idle": "2025-05-17T15:48:14.759931Z",
          "shell.execute_reply.started": "2025-05-17T15:48:13.974762Z",
          "shell.execute_reply": "2025-05-17T15:48:14.759375Z"
        },
        "id": "4-DDe2o1ZrjJ",
        "outputId": "aba087f9-12b4-4d86-e5f3-d513b1294dc6"
      },
      "outputs": [
        {
          "name": "stderr",
          "text": "[nltk_data] Downloading package punkt to /usr/share/nltk_data...\n[nltk_data]   Package punkt is already up-to-date!\n",
          "output_type": "stream"
        },
        {
          "name": "stdout",
          "text": "Average BLEU Score: 0.4953\n",
          "output_type": "stream"
        }
      ],
      "execution_count": null
    },
    {
      "cell_type": "code",
      "source": [
        "for i, item in enumerate(predictions):\n",
        "    item[\"bert_f1\"] = F1[i].item()\n",
        "\n",
        "predictions_sorted = sorted(predictions, key=lambda x: x[\"bert_f1\"])\n",
        "\n",
        "for item in predictions_sorted[:20]:\n",
        "    print(f\"Question: {item['question']}\")\n",
        "    print(f\"Ground Truth: {item['ground_truth']}\")\n",
        "    print(f\"Prediction: {item['prediction']}\")\n",
        "    print(f\"BERT F1: {item['bert_f1']:.4f}\")\n",
        "    print(\"-\" * 50)\n"
      ],
      "metadata": {
        "trusted": true,
        "id": "9sIolHceZrjJ"
      },
      "outputs": [],
      "execution_count": null
    },
    {
      "cell_type": "markdown",
      "source": [
        "# Vilt Baseline"
      ],
      "metadata": {
        "id": "pVgJOGZZZrjJ"
      }
    },
    {
      "cell_type": "code",
      "source": [
        "from transformers import ViltProcessor, ViltForQuestionAnswering\n",
        "import torch\n",
        "from PIL import Image\n",
        "\n",
        "device = torch.device(\"cuda\" if torch.cuda.is_available() else \"cpu\")\n",
        "\n",
        "model = ViltForQuestionAnswering.from_pretrained(\"dandelin/vilt-b32-finetuned-vqa\").to(device)\n",
        "processor = ViltProcessor.from_pretrained(\"dandelin/vilt-b32-finetuned-vqa\")"
      ],
      "metadata": {
        "trusted": true,
        "execution": {
          "iopub.status.busy": "2025-05-18T11:50:41.954066Z",
          "iopub.execute_input": "2025-05-18T11:50:41.954361Z",
          "iopub.status.idle": "2025-05-18T11:50:46.676119Z",
          "shell.execute_reply.started": "2025-05-18T11:50:41.954340Z",
          "shell.execute_reply": "2025-05-18T11:50:46.675242Z"
        },
        "colab": {
          "referenced_widgets": [
            "e3de298318884174b65f1b9ac742a7d1",
            "0c3f9b436fd84590872337ff3a5bcbb9",
            "40c8e18d47574fa08721961254d929ba",
            "83b18392a3b248bfb30669a2dee11a2b",
            "5ca2ec69ba454192a517a9c53ba8bbaf",
            "3c9ccd5df62a4e4aa80ba522c6aef991",
            "b6810898437242d1a256a9c9820de0cb",
            "663b6c8ec0ed46c08865af9d67b79439"
          ]
        },
        "id": "l6QUyEIZZrjJ",
        "outputId": "9b5606b3-9fa7-4b16-9764-f8ac4e716659"
      },
      "outputs": [
        {
          "output_type": "display_data",
          "data": {
            "text/plain": "config.json:   0%|          | 0.00/136k [00:00<?, ?B/s]",
            "application/vnd.jupyter.widget-view+json": {
              "version_major": 2,
              "version_minor": 0,
              "model_id": "e3de298318884174b65f1b9ac742a7d1"
            }
          },
          "metadata": {}
        },
        {
          "output_type": "display_data",
          "data": {
            "text/plain": "pytorch_model.bin:   0%|          | 0.00/470M [00:00<?, ?B/s]",
            "application/vnd.jupyter.widget-view+json": {
              "version_major": 2,
              "version_minor": 0,
              "model_id": "0c3f9b436fd84590872337ff3a5bcbb9"
            }
          },
          "metadata": {}
        },
        {
          "output_type": "display_data",
          "data": {
            "text/plain": "model.safetensors:   0%|          | 0.00/470M [00:00<?, ?B/s]",
            "application/vnd.jupyter.widget-view+json": {
              "version_major": 2,
              "version_minor": 0,
              "model_id": "40c8e18d47574fa08721961254d929ba"
            }
          },
          "metadata": {}
        },
        {
          "output_type": "display_data",
          "data": {
            "text/plain": "preprocessor_config.json:   0%|          | 0.00/251 [00:00<?, ?B/s]",
            "application/vnd.jupyter.widget-view+json": {
              "version_major": 2,
              "version_minor": 0,
              "model_id": "83b18392a3b248bfb30669a2dee11a2b"
            }
          },
          "metadata": {}
        },
        {
          "output_type": "display_data",
          "data": {
            "text/plain": "tokenizer_config.json:   0%|          | 0.00/320 [00:00<?, ?B/s]",
            "application/vnd.jupyter.widget-view+json": {
              "version_major": 2,
              "version_minor": 0,
              "model_id": "5ca2ec69ba454192a517a9c53ba8bbaf"
            }
          },
          "metadata": {}
        },
        {
          "output_type": "display_data",
          "data": {
            "text/plain": "vocab.txt:   0%|          | 0.00/232k [00:00<?, ?B/s]",
            "application/vnd.jupyter.widget-view+json": {
              "version_major": 2,
              "version_minor": 0,
              "model_id": "3c9ccd5df62a4e4aa80ba522c6aef991"
            }
          },
          "metadata": {}
        },
        {
          "output_type": "display_data",
          "data": {
            "text/plain": "tokenizer.json:   0%|          | 0.00/466k [00:00<?, ?B/s]",
            "application/vnd.jupyter.widget-view+json": {
              "version_major": 2,
              "version_minor": 0,
              "model_id": "b6810898437242d1a256a9c9820de0cb"
            }
          },
          "metadata": {}
        },
        {
          "output_type": "display_data",
          "data": {
            "text/plain": "special_tokens_map.json:   0%|          | 0.00/112 [00:00<?, ?B/s]",
            "application/vnd.jupyter.widget-view+json": {
              "version_major": 2,
              "version_minor": 0,
              "model_id": "663b6c8ec0ed46c08865af9d67b79439"
            }
          },
          "metadata": {}
        }
      ],
      "execution_count": null
    },
    {
      "cell_type": "code",
      "source": [
        "predictions = []\n",
        "\n",
        "for img_path, qas in tqdm(list(questions_data.items())):\n",
        "    full_img_path = image_root / Path(img_path).relative_to(\"images/small\")\n",
        "    image = Image.open(full_img_path).convert(\"RGB\")\n",
        "\n",
        "    for qa in qas:\n",
        "        question = qa[\"question\"]\n",
        "        ground_truth = qa[\"answer\"]\n",
        "\n",
        "        # Preprocess inputs\n",
        "        encoding = processor(image, question, return_tensors=\"pt\").to(device)\n",
        "\n",
        "        # Forward pass\n",
        "        outputs = model(**encoding)\n",
        "        logits = outputs.logits\n",
        "\n",
        "        # Get the predicted answer\n",
        "        predicted_idx = logits.argmax(-1).item()\n",
        "        predicted_answer = model.config.id2label[predicted_idx]\n",
        "\n",
        "        predictions.append({\n",
        "            \"question\": question,\n",
        "            \"ground_truth\": ground_truth,\n",
        "            \"prediction\": predicted_answer\n",
        "        })\n"
      ],
      "metadata": {
        "trusted": true,
        "execution": {
          "iopub.status.busy": "2025-05-18T11:50:52.618714Z",
          "iopub.execute_input": "2025-05-18T11:50:52.619000Z",
          "iopub.status.idle": "2025-05-18T11:53:42.650061Z",
          "shell.execute_reply.started": "2025-05-18T11:50:52.618978Z",
          "shell.execute_reply": "2025-05-18T11:53:42.649470Z"
        },
        "id": "l0YWK-PZZrjK",
        "outputId": "b13f365e-307a-472d-ba64-a2a72e1bf737"
      },
      "outputs": [
        {
          "name": "stderr",
          "text": "100%|██████████| 2067/2067 [02:50<00:00, 12.16it/s]\n",
          "output_type": "stream"
        }
      ],
      "execution_count": null
    },
    {
      "cell_type": "markdown",
      "source": [
        "**Bert score**"
      ],
      "metadata": {
        "id": "ehwyvocdZrjK"
      }
    },
    {
      "cell_type": "code",
      "source": [
        "from bert_score import score\n",
        "\n",
        "preds = [item[\"prediction\"] for item in predictions]\n",
        "gts = [item[\"ground_truth\"].lower() for item in predictions]\n",
        "\n",
        "P, R, F1 = score(preds, gts, lang=\"en\", verbose=True)\n",
        "\n",
        "print(f\"Average BERTScore F1: {F1.mean().item():.4f}\")"
      ],
      "metadata": {
        "trusted": true,
        "execution": {
          "iopub.status.busy": "2025-05-17T16:03:41.939447Z",
          "iopub.execute_input": "2025-05-17T16:03:41.939941Z",
          "iopub.status.idle": "2025-05-17T16:03:45.124370Z",
          "shell.execute_reply.started": "2025-05-17T16:03:41.939917Z",
          "shell.execute_reply": "2025-05-17T16:03:45.123757Z"
        },
        "colab": {
          "referenced_widgets": [
            "ea561b3f1cf7494d9894fd9bf4df9fb8",
            "35b22959c0884abf85c0840f19d5dec1"
          ]
        },
        "id": "yWQ45vRtZrjK",
        "outputId": "dfd7a010-ae7f-4f31-959a-fbc288c26803"
      },
      "outputs": [
        {
          "name": "stderr",
          "text": "Some weights of RobertaModel were not initialized from the model checkpoint at roberta-large and are newly initialized: ['pooler.dense.bias', 'pooler.dense.weight']\nYou should probably TRAIN this model on a down-stream task to be able to use it for predictions and inference.\n",
          "output_type": "stream"
        },
        {
          "name": "stdout",
          "text": "calculating scores...\ncomputing bert embedding.\n",
          "output_type": "stream"
        },
        {
          "output_type": "display_data",
          "data": {
            "text/plain": "  0%|          | 0/16 [00:00<?, ?it/s]",
            "application/vnd.jupyter.widget-view+json": {
              "version_major": 2,
              "version_minor": 0,
              "model_id": "ea561b3f1cf7494d9894fd9bf4df9fb8"
            }
          },
          "metadata": {}
        },
        {
          "name": "stdout",
          "text": "computing greedy matching.\n",
          "output_type": "stream"
        },
        {
          "output_type": "display_data",
          "data": {
            "text/plain": "  0%|          | 0/109 [00:00<?, ?it/s]",
            "application/vnd.jupyter.widget-view+json": {
              "version_major": 2,
              "version_minor": 0,
              "model_id": "35b22959c0884abf85c0840f19d5dec1"
            }
          },
          "metadata": {}
        },
        {
          "name": "stdout",
          "text": "done in 2.10 seconds, 3299.44 sentences/sec\nAverage BERTScore F1: 0.9771\n",
          "output_type": "stream"
        }
      ],
      "execution_count": null
    },
    {
      "cell_type": "markdown",
      "source": [
        "**exact match score**"
      ],
      "metadata": {
        "id": "7Tjb30h5ZrjK"
      }
    },
    {
      "cell_type": "code",
      "source": [
        "correct = 0\n",
        "total = 0\n",
        "\n",
        "for item in predictions:\n",
        "    pred = item[\"prediction\"].strip().lower()\n",
        "    gt = item[\"ground_truth\"].strip().lower()\n",
        "\n",
        "    if pred == gt:\n",
        "        correct += 1\n",
        "    total += 1\n",
        "\n",
        "accuracy = correct / total\n",
        "print(f\"Exact Match Accuracy: {accuracy*100:.2f}%\")\n"
      ],
      "metadata": {
        "trusted": true,
        "execution": {
          "iopub.status.busy": "2025-05-18T11:58:47.373226Z",
          "iopub.execute_input": "2025-05-18T11:58:47.373814Z",
          "iopub.status.idle": "2025-05-18T11:58:47.382913Z",
          "shell.execute_reply.started": "2025-05-18T11:58:47.373789Z",
          "shell.execute_reply": "2025-05-18T11:58:47.382320Z"
        },
        "id": "TZoJ3wtwZrjK",
        "outputId": "741db24d-9f07-4c58-a8bd-c13eb36b84e2"
      },
      "outputs": [
        {
          "name": "stdout",
          "text": "Exact Match Accuracy: 47.10%\n",
          "output_type": "stream"
        }
      ],
      "execution_count": null
    },
    {
      "cell_type": "markdown",
      "source": [
        "****BLEU and METEOR Score****"
      ],
      "metadata": {
        "id": "LFv1m930ZrjK"
      }
    },
    {
      "cell_type": "code",
      "source": [
        "from nltk.translate.bleu_score import sentence_bleu, SmoothingFunction\n",
        "from nltk.translate.meteor_score import meteor_score\n",
        "from nltk.translate.meteor_score import single_meteor_score\n",
        "from nltk.tokenize import word_tokenize\n",
        "\n",
        "\n",
        "import numpy as np\n",
        "\n",
        "# Optional for BLEU smoothing\n",
        "smoother = SmoothingFunction().method4\n",
        "\n",
        "bleu_scores = []\n",
        "\n",
        "for item in predictions:\n",
        "    reference = [item[\"ground_truth\"].lower().split()]  # BLEU expects list of references\n",
        "    candidate = item[\"prediction\"].lower().split()\n",
        "\n",
        "    # BLEU Score (BLEU-1 to BLEU-4)\n",
        "    bleu = sentence_bleu(reference, candidate, smoothing_function=smoother)\n",
        "    bleu_scores.append(bleu)\n",
        "\n",
        "# Final average scores\n",
        "avg_bleu = np.mean(bleu_scores)\n",
        "print(f\"\\nAverage BLEU Score: {avg_bleu:.4f}\")\n",
        "\n",
        "\n",
        "\n",
        "preds = [item[\"prediction\"] for item in predictions]\n",
        "gts = [item[\"ground_truth\"] for item in predictions]\n",
        "\n",
        "meteor_scores = [\n",
        "    single_meteor_score(word_tokenize(gt), word_tokenize(pred))\n",
        "    for gt, pred in zip(gts, preds)\n",
        "]\n",
        "\n",
        "average_meteor = sum(meteor_scores) / len(meteor_scores)\n",
        "print(f\"Average METEOR score: {average_meteor:.4f}\")\n"
      ],
      "metadata": {
        "trusted": true,
        "execution": {
          "iopub.status.busy": "2025-05-17T16:12:20.712765Z",
          "iopub.execute_input": "2025-05-17T16:12:20.713532Z",
          "iopub.status.idle": "2025-05-17T16:12:21.752741Z",
          "shell.execute_reply.started": "2025-05-17T16:12:20.713511Z",
          "shell.execute_reply": "2025-05-17T16:12:21.752019Z"
        },
        "id": "LIF4yHz1ZrjK",
        "outputId": "f2e48232-099f-4d6a-96dd-f3d4ae760672"
      },
      "outputs": [
        {
          "name": "stdout",
          "text": "\nAverage BLEU Score: 0.4714\nAverage METEOR score: 0.2528\n",
          "output_type": "stream"
        }
      ],
      "execution_count": null
    },
    {
      "cell_type": "code",
      "source": [
        "for i, pred in enumerate(predictions):\n",
        "    print(f\"Example {i+1}:\")\n",
        "    print(f\"Question       : {pred['question']}\")\n",
        "    print(f\"Ground Truth   : {pred['ground_truth']}\")\n",
        "    print(f\"Prediction     : {pred['prediction']}\")\n",
        "    print(\"-\" * 50)\n"
      ],
      "metadata": {
        "trusted": true,
        "id": "VMvju50cZrjK"
      },
      "outputs": [],
      "execution_count": null
    },
    {
      "cell_type": "markdown",
      "source": [
        "# **Evaluating fine-tuned blip model**"
      ],
      "metadata": {
        "id": "OLpcn2hZZrjK"
      }
    },
    {
      "cell_type": "code",
      "source": [
        "from transformers import ViltProcessor, ViltForQuestionAnswering\n",
        "import torch\n",
        "from PIL import Image\n",
        "from transformers import BlipProcessor, BlipForQuestionAnswering\n",
        "\n",
        "device = torch.device(\"cuda\" if torch.cuda.is_available() else \"cpu\")\n",
        "\n",
        "from transformers import BlipForQuestionAnswering, BlipProcessor\n",
        "from peft import PeftModel, PeftConfig\n",
        "import torch\n",
        "from tqdm import tqdm\n",
        "import torch.nn.functional as F\n",
        "\n",
        "# Load processor and base model\n",
        "processor = BlipProcessor.from_pretrained(\"Salesforce/blip-vqa-base\")\n",
        "base_model = BlipForQuestionAnswering.from_pretrained(\"Salesforce/blip-vqa-base\")\n",
        "\n",
        "peft_model = PeftModel.from_pretrained(base_model, \"./lora_adapter\")\n",
        "peft_model.eval()\n",
        "peft_model.to(device)"
      ],
      "metadata": {
        "trusted": true,
        "execution": {
          "iopub.status.busy": "2025-05-18T12:05:47.078177Z",
          "iopub.execute_input": "2025-05-18T12:05:47.078888Z",
          "iopub.status.idle": "2025-05-18T12:05:49.964378Z",
          "shell.execute_reply.started": "2025-05-18T12:05:47.078865Z",
          "shell.execute_reply": "2025-05-18T12:05:49.963538Z"
        },
        "id": "VHLCLMMzZrjK",
        "outputId": "ffb02be6-eb9d-4c0d-f966-47fa82e44849",
        "colab": {
          "base_uri": "https://localhost:8080/"
        }
      },
      "outputs": [
        {
          "output_type": "execute_result",
          "data": {
            "text/plain": [
              "PeftModel(\n",
              "  (base_model): LoraModel(\n",
              "    (model): BlipForQuestionAnswering(\n",
              "      (vision_model): BlipVisionModel(\n",
              "        (embeddings): BlipVisionEmbeddings(\n",
              "          (patch_embedding): Conv2d(3, 768, kernel_size=(16, 16), stride=(16, 16))\n",
              "        )\n",
              "        (encoder): BlipEncoder(\n",
              "          (layers): ModuleList(\n",
              "            (0-11): 12 x BlipEncoderLayer(\n",
              "              (self_attn): BlipAttention(\n",
              "                (dropout): Dropout(p=0.0, inplace=False)\n",
              "                (qkv): Linear(in_features=768, out_features=2304, bias=True)\n",
              "                (projection): Linear(in_features=768, out_features=768, bias=True)\n",
              "              )\n",
              "              (layer_norm1): LayerNorm((768,), eps=1e-05, elementwise_affine=True)\n",
              "              (mlp): BlipMLP(\n",
              "                (activation_fn): GELUActivation()\n",
              "                (fc1): Linear(in_features=768, out_features=3072, bias=True)\n",
              "                (fc2): Linear(in_features=3072, out_features=768, bias=True)\n",
              "              )\n",
              "              (layer_norm2): LayerNorm((768,), eps=1e-05, elementwise_affine=True)\n",
              "            )\n",
              "          )\n",
              "        )\n",
              "        (post_layernorm): LayerNorm((768,), eps=1e-05, elementwise_affine=True)\n",
              "      )\n",
              "      (text_encoder): BlipTextModel(\n",
              "        (embeddings): BlipTextEmbeddings(\n",
              "          (word_embeddings): Embedding(30524, 768, padding_idx=0)\n",
              "          (position_embeddings): Embedding(512, 768)\n",
              "          (LayerNorm): LayerNorm((768,), eps=1e-12, elementwise_affine=True)\n",
              "          (dropout): Dropout(p=0.0, inplace=False)\n",
              "        )\n",
              "        (encoder): BlipTextEncoder(\n",
              "          (layer): ModuleList(\n",
              "            (0-11): 12 x BlipTextLayer(\n",
              "              (attention): BlipTextAttention(\n",
              "                (self): BlipTextSelfAttention(\n",
              "                  (query): lora.Linear(\n",
              "                    (base_layer): Linear(in_features=768, out_features=768, bias=True)\n",
              "                    (lora_dropout): ModuleDict(\n",
              "                      (default): Dropout(p=0.1, inplace=False)\n",
              "                    )\n",
              "                    (lora_A): ModuleDict(\n",
              "                      (default): Linear(in_features=768, out_features=8, bias=False)\n",
              "                    )\n",
              "                    (lora_B): ModuleDict(\n",
              "                      (default): Linear(in_features=8, out_features=768, bias=False)\n",
              "                    )\n",
              "                    (lora_embedding_A): ParameterDict()\n",
              "                    (lora_embedding_B): ParameterDict()\n",
              "                    (lora_magnitude_vector): ModuleDict()\n",
              "                  )\n",
              "                  (key): Linear(in_features=768, out_features=768, bias=True)\n",
              "                  (value): lora.Linear(\n",
              "                    (base_layer): Linear(in_features=768, out_features=768, bias=True)\n",
              "                    (lora_dropout): ModuleDict(\n",
              "                      (default): Dropout(p=0.1, inplace=False)\n",
              "                    )\n",
              "                    (lora_A): ModuleDict(\n",
              "                      (default): Linear(in_features=768, out_features=8, bias=False)\n",
              "                    )\n",
              "                    (lora_B): ModuleDict(\n",
              "                      (default): Linear(in_features=8, out_features=768, bias=False)\n",
              "                    )\n",
              "                    (lora_embedding_A): ParameterDict()\n",
              "                    (lora_embedding_B): ParameterDict()\n",
              "                    (lora_magnitude_vector): ModuleDict()\n",
              "                  )\n",
              "                  (dropout): Dropout(p=0.0, inplace=False)\n",
              "                )\n",
              "                (output): BlipTextSelfOutput(\n",
              "                  (dense): Linear(in_features=768, out_features=768, bias=True)\n",
              "                  (LayerNorm): LayerNorm((768,), eps=1e-12, elementwise_affine=True)\n",
              "                  (dropout): Dropout(p=0.0, inplace=False)\n",
              "                )\n",
              "              )\n",
              "              (crossattention): BlipTextAttention(\n",
              "                (self): BlipTextSelfAttention(\n",
              "                  (query): lora.Linear(\n",
              "                    (base_layer): Linear(in_features=768, out_features=768, bias=True)\n",
              "                    (lora_dropout): ModuleDict(\n",
              "                      (default): Dropout(p=0.1, inplace=False)\n",
              "                    )\n",
              "                    (lora_A): ModuleDict(\n",
              "                      (default): Linear(in_features=768, out_features=8, bias=False)\n",
              "                    )\n",
              "                    (lora_B): ModuleDict(\n",
              "                      (default): Linear(in_features=8, out_features=768, bias=False)\n",
              "                    )\n",
              "                    (lora_embedding_A): ParameterDict()\n",
              "                    (lora_embedding_B): ParameterDict()\n",
              "                    (lora_magnitude_vector): ModuleDict()\n",
              "                  )\n",
              "                  (key): Linear(in_features=768, out_features=768, bias=True)\n",
              "                  (value): lora.Linear(\n",
              "                    (base_layer): Linear(in_features=768, out_features=768, bias=True)\n",
              "                    (lora_dropout): ModuleDict(\n",
              "                      (default): Dropout(p=0.1, inplace=False)\n",
              "                    )\n",
              "                    (lora_A): ModuleDict(\n",
              "                      (default): Linear(in_features=768, out_features=8, bias=False)\n",
              "                    )\n",
              "                    (lora_B): ModuleDict(\n",
              "                      (default): Linear(in_features=8, out_features=768, bias=False)\n",
              "                    )\n",
              "                    (lora_embedding_A): ParameterDict()\n",
              "                    (lora_embedding_B): ParameterDict()\n",
              "                    (lora_magnitude_vector): ModuleDict()\n",
              "                  )\n",
              "                  (dropout): Dropout(p=0.0, inplace=False)\n",
              "                )\n",
              "                (output): BlipTextSelfOutput(\n",
              "                  (dense): Linear(in_features=768, out_features=768, bias=True)\n",
              "                  (LayerNorm): LayerNorm((768,), eps=1e-12, elementwise_affine=True)\n",
              "                  (dropout): Dropout(p=0.0, inplace=False)\n",
              "                )\n",
              "              )\n",
              "              (intermediate): BlipTextIntermediate(\n",
              "                (dense): Linear(in_features=768, out_features=3072, bias=True)\n",
              "                (intermediate_act_fn): GELUActivation()\n",
              "              )\n",
              "              (output): BlipTextOutput(\n",
              "                (dense): Linear(in_features=3072, out_features=768, bias=True)\n",
              "                (LayerNorm): LayerNorm((768,), eps=1e-12, elementwise_affine=True)\n",
              "                (dropout): Dropout(p=0.0, inplace=False)\n",
              "              )\n",
              "            )\n",
              "          )\n",
              "        )\n",
              "      )\n",
              "      (text_decoder): BlipTextLMHeadModel(\n",
              "        (bert): BlipTextModel(\n",
              "          (embeddings): BlipTextEmbeddings(\n",
              "            (word_embeddings): Embedding(30524, 768, padding_idx=0)\n",
              "            (position_embeddings): Embedding(512, 768)\n",
              "            (LayerNorm): LayerNorm((768,), eps=1e-12, elementwise_affine=True)\n",
              "            (dropout): Dropout(p=0.0, inplace=False)\n",
              "          )\n",
              "          (encoder): BlipTextEncoder(\n",
              "            (layer): ModuleList(\n",
              "              (0-11): 12 x BlipTextLayer(\n",
              "                (attention): BlipTextAttention(\n",
              "                  (self): BlipTextSelfAttention(\n",
              "                    (query): lora.Linear(\n",
              "                      (base_layer): Linear(in_features=768, out_features=768, bias=True)\n",
              "                      (lora_dropout): ModuleDict(\n",
              "                        (default): Dropout(p=0.1, inplace=False)\n",
              "                      )\n",
              "                      (lora_A): ModuleDict(\n",
              "                        (default): Linear(in_features=768, out_features=8, bias=False)\n",
              "                      )\n",
              "                      (lora_B): ModuleDict(\n",
              "                        (default): Linear(in_features=8, out_features=768, bias=False)\n",
              "                      )\n",
              "                      (lora_embedding_A): ParameterDict()\n",
              "                      (lora_embedding_B): ParameterDict()\n",
              "                      (lora_magnitude_vector): ModuleDict()\n",
              "                    )\n",
              "                    (key): Linear(in_features=768, out_features=768, bias=True)\n",
              "                    (value): lora.Linear(\n",
              "                      (base_layer): Linear(in_features=768, out_features=768, bias=True)\n",
              "                      (lora_dropout): ModuleDict(\n",
              "                        (default): Dropout(p=0.1, inplace=False)\n",
              "                      )\n",
              "                      (lora_A): ModuleDict(\n",
              "                        (default): Linear(in_features=768, out_features=8, bias=False)\n",
              "                      )\n",
              "                      (lora_B): ModuleDict(\n",
              "                        (default): Linear(in_features=8, out_features=768, bias=False)\n",
              "                      )\n",
              "                      (lora_embedding_A): ParameterDict()\n",
              "                      (lora_embedding_B): ParameterDict()\n",
              "                      (lora_magnitude_vector): ModuleDict()\n",
              "                    )\n",
              "                    (dropout): Dropout(p=0.0, inplace=False)\n",
              "                  )\n",
              "                  (output): BlipTextSelfOutput(\n",
              "                    (dense): Linear(in_features=768, out_features=768, bias=True)\n",
              "                    (LayerNorm): LayerNorm((768,), eps=1e-12, elementwise_affine=True)\n",
              "                    (dropout): Dropout(p=0.0, inplace=False)\n",
              "                  )\n",
              "                )\n",
              "                (crossattention): BlipTextAttention(\n",
              "                  (self): BlipTextSelfAttention(\n",
              "                    (query): lora.Linear(\n",
              "                      (base_layer): Linear(in_features=768, out_features=768, bias=True)\n",
              "                      (lora_dropout): ModuleDict(\n",
              "                        (default): Dropout(p=0.1, inplace=False)\n",
              "                      )\n",
              "                      (lora_A): ModuleDict(\n",
              "                        (default): Linear(in_features=768, out_features=8, bias=False)\n",
              "                      )\n",
              "                      (lora_B): ModuleDict(\n",
              "                        (default): Linear(in_features=8, out_features=768, bias=False)\n",
              "                      )\n",
              "                      (lora_embedding_A): ParameterDict()\n",
              "                      (lora_embedding_B): ParameterDict()\n",
              "                      (lora_magnitude_vector): ModuleDict()\n",
              "                    )\n",
              "                    (key): Linear(in_features=768, out_features=768, bias=True)\n",
              "                    (value): lora.Linear(\n",
              "                      (base_layer): Linear(in_features=768, out_features=768, bias=True)\n",
              "                      (lora_dropout): ModuleDict(\n",
              "                        (default): Dropout(p=0.1, inplace=False)\n",
              "                      )\n",
              "                      (lora_A): ModuleDict(\n",
              "                        (default): Linear(in_features=768, out_features=8, bias=False)\n",
              "                      )\n",
              "                      (lora_B): ModuleDict(\n",
              "                        (default): Linear(in_features=8, out_features=768, bias=False)\n",
              "                      )\n",
              "                      (lora_embedding_A): ParameterDict()\n",
              "                      (lora_embedding_B): ParameterDict()\n",
              "                      (lora_magnitude_vector): ModuleDict()\n",
              "                    )\n",
              "                    (dropout): Dropout(p=0.0, inplace=False)\n",
              "                  )\n",
              "                  (output): BlipTextSelfOutput(\n",
              "                    (dense): Linear(in_features=768, out_features=768, bias=True)\n",
              "                    (LayerNorm): LayerNorm((768,), eps=1e-12, elementwise_affine=True)\n",
              "                    (dropout): Dropout(p=0.0, inplace=False)\n",
              "                  )\n",
              "                )\n",
              "                (intermediate): BlipTextIntermediate(\n",
              "                  (dense): Linear(in_features=768, out_features=3072, bias=True)\n",
              "                  (intermediate_act_fn): GELUActivation()\n",
              "                )\n",
              "                (output): BlipTextOutput(\n",
              "                  (dense): Linear(in_features=3072, out_features=768, bias=True)\n",
              "                  (LayerNorm): LayerNorm((768,), eps=1e-12, elementwise_affine=True)\n",
              "                  (dropout): Dropout(p=0.0, inplace=False)\n",
              "                )\n",
              "              )\n",
              "            )\n",
              "          )\n",
              "        )\n",
              "        (cls): BlipTextOnlyMLMHead(\n",
              "          (predictions): BlipTextLMPredictionHead(\n",
              "            (transform): BlipTextPredictionHeadTransform(\n",
              "              (dense): Linear(in_features=768, out_features=768, bias=True)\n",
              "              (transform_act_fn): GELUActivation()\n",
              "              (LayerNorm): LayerNorm((768,), eps=1e-12, elementwise_affine=True)\n",
              "            )\n",
              "            (decoder): Linear(in_features=768, out_features=30524, bias=True)\n",
              "          )\n",
              "        )\n",
              "      )\n",
              "    )\n",
              "  )\n",
              ")"
            ]
          },
          "metadata": {},
          "execution_count": 12
        }
      ],
      "execution_count": 12
    },
    {
      "cell_type": "code",
      "source": [
        "from PIL import Image\n",
        "from tqdm import tqdm\n",
        "\n",
        "predictions = []\n",
        "total_time =0\n",
        "\n",
        "for img_path, qas in tqdm(list(questions_data.items())):\n",
        "    full_img_path = image_root / Path(img_path).relative_to(\"images/small\")\n",
        "    image = Image.open(full_img_path).convert(\"RGB\")\n",
        "\n",
        "    for qa in qas:\n",
        "        question = qa[\"question\"]\n",
        "        ground_truth = qa[\"answer\"]\n",
        "\n",
        "        # Preprocess and move to device\n",
        "        inputs = processor(image, question, return_tensors=\"pt\").to(device)\n",
        "\n",
        "         # Measure inference time\n",
        "        start = time.time()\n",
        "        generated_ids = peft_model.generate(**inputs)\n",
        "        end = time.time()\n",
        "\n",
        "        total_time += (end - start)\n",
        "\n",
        "\n",
        "\n",
        "        predicted_answer = processor.batch_decode(generated_ids, skip_special_tokens=True)[0]\n",
        "\n",
        "        predictions.append({\n",
        "            \"question\": question,\n",
        "            \"ground_truth\": ground_truth,\n",
        "            \"prediction\": predicted_answer\n",
        "        })\n",
        "print(f\"Average Inference Time: {total_time / total:.3f} seconds/image\")\n"
      ],
      "metadata": {
        "trusted": true,
        "execution": {
          "iopub.status.busy": "2025-05-18T12:08:36.309499Z",
          "iopub.execute_input": "2025-05-18T12:08:36.310167Z",
          "iopub.status.idle": "2025-05-18T12:19:32.682123Z",
          "shell.execute_reply.started": "2025-05-18T12:08:36.310141Z",
          "shell.execute_reply": "2025-05-18T12:19:32.681240Z"
        },
        "id": "b-8ihrl0ZrjK",
        "outputId": "06e00c81-162d-49f7-8cf3-fe043c3a41e5",
        "colab": {
          "base_uri": "https://localhost:8080/"
        }
      },
      "outputs": [
        {
          "output_type": "stream",
          "name": "stderr",
          "text": [
            "100%|██████████| 2067/2067 [11:58<00:00,  2.88it/s]"
          ]
        },
        {
          "output_type": "stream",
          "name": "stdout",
          "text": [
            "Average Inference Time: 0.095 seconds/image\n"
          ]
        },
        {
          "output_type": "stream",
          "name": "stderr",
          "text": [
            "\n"
          ]
        }
      ],
      "execution_count": 13
    },
    {
      "cell_type": "code",
      "source": [
        "from PIL import Image\n",
        "from tqdm import tqdm\n",
        "\n",
        "predictions = []\n",
        "total_time =0\n",
        "\n",
        "for img_path, qas in tqdm(list(questions_data.items())[:300]):\n",
        "    full_img_path = image_root / Path(img_path).relative_to(\"images/small\")\n",
        "    image = Image.open(full_img_path).convert(\"RGB\")\n",
        "\n",
        "    for qa in qas:\n",
        "        question = qa[\"question\"]\n",
        "        ground_truth = qa[\"answer\"]\n",
        "\n",
        "        # Preprocess and move to device\n",
        "        inputs = processor(image, question, return_tensors=\"pt\").to(device)\n",
        "\n",
        "         # Measure inference time\n",
        "        start = time.time()\n",
        "        generated_ids = peft_model.generate(**inputs)\n",
        "        end = time.time()\n",
        "\n",
        "        total_time += (end - start)\n",
        "\n",
        "\n",
        "\n",
        "        predicted_answer = processor.batch_decode(generated_ids, skip_special_tokens=True)[0]\n",
        "\n",
        "        predictions.append({\n",
        "            \"question\": question,\n",
        "            \"ground_truth\": ground_truth,\n",
        "            \"prediction\": predicted_answer\n",
        "        })\n",
        "print(f\"Average Inference Time: {total_time / 100:.3f} seconds/image\")\n"
      ],
      "metadata": {
        "colab": {
          "base_uri": "https://localhost:8080/"
        },
        "id": "el6kAbw5ud-N",
        "outputId": "95d3f141-73d9-418d-adcc-ea65a7c1bcda"
      },
      "execution_count": 22,
      "outputs": [
        {
          "output_type": "stream",
          "name": "stderr",
          "text": [
            "100%|██████████| 300/300 [01:45<00:00,  2.85it/s]"
          ]
        },
        {
          "output_type": "stream",
          "name": "stdout",
          "text": [
            "Average Inference Time: 0.994 seconds/image\n"
          ]
        },
        {
          "output_type": "stream",
          "name": "stderr",
          "text": [
            "\n"
          ]
        }
      ]
    },
    {
      "cell_type": "code",
      "source": [
        "print(f\"Average Inference Time: {total_time / 300:.3f} seconds/image\")\n"
      ],
      "metadata": {
        "colab": {
          "base_uri": "https://localhost:8080/"
        },
        "id": "5QtUBAuGx0lb",
        "outputId": "04a5650f-fe21-4b5e-add6-ef5c914edcd1"
      },
      "execution_count": 23,
      "outputs": [
        {
          "output_type": "stream",
          "name": "stdout",
          "text": [
            "Average Inference Time: 0.331 seconds/image\n"
          ]
        }
      ]
    },
    {
      "cell_type": "markdown",
      "source": [
        "**Exact matching score**"
      ],
      "metadata": {
        "id": "mtYdIgtVZrjL"
      }
    },
    {
      "cell_type": "code",
      "source": [
        "exact_matches = 0\n",
        "total = len(predictions)\n",
        "\n",
        "for pred in predictions:\n",
        "    reference = pred[\"ground_truth\"].lower().strip()\n",
        "    hypothesis = pred[\"prediction\"].lower().strip()\n",
        "\n",
        "    if reference == hypothesis:\n",
        "        exact_matches += 1\n",
        "\n",
        "exact_match_acc = exact_matches / total\n",
        "print(f\"Exact Match Accuracy: {exact_match_acc * 100:.2f}%\")\n"
      ],
      "metadata": {
        "trusted": true,
        "execution": {
          "iopub.status.busy": "2025-05-18T12:20:57.691600Z",
          "iopub.execute_input": "2025-05-18T12:20:57.692208Z",
          "iopub.status.idle": "2025-05-18T12:20:57.701720Z",
          "shell.execute_reply.started": "2025-05-18T12:20:57.692181Z",
          "shell.execute_reply": "2025-05-18T12:20:57.701019Z"
        },
        "id": "9S-TIn1UZrjL",
        "outputId": "0bc32806-33af-4ed2-938c-069b8fda7ca8"
      },
      "outputs": [
        {
          "name": "stdout",
          "text": "Exact Match Accuracy: 77.75%\n",
          "output_type": "stream"
        }
      ],
      "execution_count": null
    },
    {
      "cell_type": "markdown",
      "source": [
        "**Bertscore**"
      ],
      "metadata": {
        "id": "L-zbn6iCZrjL"
      }
    },
    {
      "cell_type": "code",
      "source": [
        "!pip install evaluate transformers --quiet\n",
        "\n",
        "import evaluate\n",
        "\n",
        "# Load bertscore metric\n",
        "bertscore = evaluate.load(\"bertscore\")\n",
        "\n",
        "# Prepare lists of predictions and references\n",
        "preds = [pred[\"prediction\"] for pred in predictions]\n",
        "refs = [pred[\"ground_truth\"] for pred in predictions]\n",
        "\n",
        "# Compute BERTScore (using a base model like roberta-large)\n",
        "results = bertscore.compute(predictions=preds, references=refs, lang=\"en\")\n",
        "\n",
        "# Print average BERTScore F1\n",
        "average_f1 = sum(results[\"f1\"]) / len(results[\"f1\"])\n",
        "print(f\"Average BERTScore F1: {average_f1:.4f}\")\n"
      ],
      "metadata": {
        "trusted": true,
        "execution": {
          "iopub.status.busy": "2025-05-17T16:41:09.834955Z",
          "iopub.execute_input": "2025-05-17T16:41:09.835681Z",
          "iopub.status.idle": "2025-05-17T16:41:19.262856Z",
          "shell.execute_reply.started": "2025-05-17T16:41:09.835654Z",
          "shell.execute_reply": "2025-05-17T16:41:19.262028Z"
        },
        "colab": {
          "referenced_widgets": [
            "80c271c94943433eb8a11b04bda1301a"
          ]
        },
        "id": "aMuoy2kWZrjL",
        "outputId": "1acb192f-6a41-408c-c5cc-9df3bcaf965d"
      },
      "outputs": [
        {
          "name": "stderr",
          "text": "huggingface/tokenizers: The current process just got forked, after parallelism has already been used. Disabling parallelism to avoid deadlocks...\nTo disable this warning, you can either:\n\t- Avoid using `tokenizers` before the fork if possible\n\t- Explicitly set the environment variable TOKENIZERS_PARALLELISM=(true | false)\n",
          "output_type": "stream"
        },
        {
          "name": "stdout",
          "text": "\u001b[2K   \u001b[90m━━━━━━━━━━━━━━━━━━━━━━━━━━━━━━━━━━━━━━━━\u001b[0m \u001b[32m84.0/84.0 kB\u001b[0m \u001b[31m2.0 MB/s\u001b[0m eta \u001b[36m0:00:00\u001b[0m00:01\u001b[0m\n\u001b[2K   \u001b[90m━━━━━━━━━━━━━━━━━━━━━━━━━━━━━━━━━━━━━━━━\u001b[0m \u001b[32m183.9/183.9 kB\u001b[0m \u001b[31m5.0 MB/s\u001b[0m eta \u001b[36m0:00:00\u001b[0mta \u001b[36m0:00:01\u001b[0m\n\u001b[?25h\u001b[31mERROR: pip's dependency resolver does not currently take into account all the packages that are installed. This behaviour is the source of the following dependency conflicts.\ngcsfs 2024.10.0 requires fsspec==2024.10.0, but you have fsspec 2024.12.0 which is incompatible.\nbigframes 1.36.0 requires rich<14,>=12.4.4, but you have rich 14.0.0 which is incompatible.\u001b[0m\u001b[31m\n\u001b[0m",
          "output_type": "stream"
        },
        {
          "output_type": "display_data",
          "data": {
            "text/plain": "Downloading builder script:   0%|          | 0.00/7.95k [00:00<?, ?B/s]",
            "application/vnd.jupyter.widget-view+json": {
              "version_major": 2,
              "version_minor": 0,
              "model_id": "80c271c94943433eb8a11b04bda1301a"
            }
          },
          "metadata": {}
        },
        {
          "name": "stderr",
          "text": "Some weights of RobertaModel were not initialized from the model checkpoint at roberta-large and are newly initialized: ['pooler.dense.bias', 'pooler.dense.weight']\nYou should probably TRAIN this model on a down-stream task to be able to use it for predictions and inference.\n",
          "output_type": "stream"
        },
        {
          "name": "stdout",
          "text": "Average BERTScore F1: 0.9753\n",
          "output_type": "stream"
        }
      ],
      "execution_count": null
    },
    {
      "cell_type": "markdown",
      "source": [
        "**BLEU and METEOR score**"
      ],
      "metadata": {
        "id": "_Fgu2CQCZrjM"
      }
    },
    {
      "cell_type": "code",
      "source": [
        "from nltk.translate.bleu_score import sentence_bleu, SmoothingFunction\n",
        "from nltk.translate.meteor_score import meteor_score\n",
        "import numpy as np\n",
        "\n",
        "smoother = SmoothingFunction().method4\n",
        "\n",
        "bleu_scores = []\n",
        "meteor_scores = []\n",
        "\n",
        "for item in predictions:\n",
        "    reference = [item[\"ground_truth\"].lower().split()]\n",
        "    candidate = item[\"prediction\"].lower().split()\n",
        "\n",
        "    # Compute BLEU score\n",
        "    bleu = sentence_bleu(reference, candidate, smoothing_function=smoother)\n",
        "    bleu_scores.append(bleu)\n",
        "\n",
        "# Aggregate results\n",
        "avg_bleu = np.mean(bleu_scores)\n",
        "print(f\"\\nAverage BLEU Score: {avg_bleu:.4f}\")\n",
        "\n",
        "\n",
        "\n",
        "preds = [item[\"prediction\"] for item in predictions]\n",
        "gts = [item[\"ground_truth\"] for item in predictions]\n",
        "\n",
        "meteor_scores = [\n",
        "    single_meteor_score(word_tokenize(gt), word_tokenize(pred))\n",
        "    for gt, pred in zip(gts, preds)\n",
        "]\n",
        "\n",
        "average_meteor = sum(meteor_scores) / len(meteor_scores)\n",
        "print(f\"Average METEOR score: {average_meteor:.4f}\")\n"
      ],
      "metadata": {
        "trusted": true,
        "execution": {
          "iopub.status.busy": "2025-05-17T18:02:57.502914Z",
          "iopub.execute_input": "2025-05-17T18:02:57.503710Z",
          "iopub.status.idle": "2025-05-17T18:02:58.416820Z",
          "shell.execute_reply.started": "2025-05-17T18:02:57.503680Z",
          "shell.execute_reply": "2025-05-17T18:02:58.416092Z"
        },
        "id": "1mIf0t7qZrjM",
        "outputId": "efc67d5a-e088-43e0-ae5e-d33b77854f5d"
      },
      "outputs": [
        {
          "name": "stdout",
          "text": "\nAverage BLEU Score: 0.7791\nAverage METEOR score: 0.3933\n",
          "output_type": "stream"
        }
      ],
      "execution_count": null
    },
    {
      "cell_type": "markdown",
      "source": [
        "**MAP**"
      ],
      "metadata": {
        "id": "qCXXY0iKZrjM"
      }
    },
    {
      "cell_type": "code",
      "source": [
        "\n",
        "\n",
        "import pandas as pd\n",
        "import matplotlib.pyplot as plt\n",
        "import seaborn as sns\n",
        "\n",
        "df = pd.DataFrame(predictions)\n",
        "\n",
        "def get_question_type(question):\n",
        "    if \"color\" in question.lower():\n",
        "        return \"color\"\n",
        "    elif \"material\" in question.lower():\n",
        "        return \"material\"\n",
        "    elif \"brand\" in question.lower():\n",
        "        return \"brand\"\n",
        "    elif \"category\" in question.lower():\n",
        "        return \"category\"\n",
        "    else:\n",
        "        return \"other\"\n",
        "\n",
        "df[\"type\"] = df[\"question\"].apply(get_question_type)\n",
        "df[\"correct\"] = df[\"prediction\"].str.strip().str.lower() == df[\"ground_truth\"].str.strip().str.lower()\n",
        "\n",
        "# Accuracy by type\n",
        "accuracy_by_type = df.groupby(\"type\")[\"correct\"].mean().reset_index()\n",
        "\n",
        "# Plot heatmap\n",
        "plt.figure(figsize=(8, 5))\n",
        "sns.barplot(x=\"type\", y=\"correct\", data=accuracy_by_type)\n",
        "plt.title(\"Accuracy by Question Type\")\n",
        "plt.ylabel(\"Accuracy\")\n",
        "plt.xlabel(\"Question Type\")\n",
        "plt.ylim(0, 1)\n",
        "plt.grid(axis='y')\n",
        "plt.tight_layout()\n",
        "plt.show()\n"
      ],
      "metadata": {
        "trusted": true,
        "execution": {
          "iopub.status.busy": "2025-05-17T18:03:04.968927Z",
          "iopub.execute_input": "2025-05-17T18:03:04.969455Z",
          "iopub.status.idle": "2025-05-17T18:03:05.158793Z",
          "shell.execute_reply.started": "2025-05-17T18:03:04.969432Z",
          "shell.execute_reply": "2025-05-17T18:03:05.158165Z"
        },
        "id": "Z8cjROqAZrjM",
        "outputId": "42bde27c-b445-4445-9694-2f6244f3de90"
      },
      "outputs": [
        {
          "output_type": "display_data",
          "data": {
            "text/plain": "<Figure size 800x500 with 1 Axes>",
            "image/png": "[encoded data removed]"
          },
          "metadata": {}
        }
      ],
      "execution_count": null
    },
    {
      "cell_type": "markdown",
      "source": [
        "# **Evaluating fine-tuning blip model - config 2**"
      ],
      "metadata": {
        "id": "1nO_ENwTZrjM"
      }
    },
    {
      "cell_type": "code",
      "source": [
        "from transformers import ViltProcessor, ViltForQuestionAnswering\n",
        "import torch\n",
        "from PIL import Image\n",
        "from transformers import BlipProcessor, BlipForQuestionAnswering\n",
        "\n",
        "device = torch.device(\"cuda\" if torch.cuda.is_available() else \"cpu\")\n",
        "\n",
        "from transformers import BlipForQuestionAnswering, BlipProcessor\n",
        "from peft import PeftModel, PeftConfig\n",
        "import torch\n",
        "from tqdm import tqdm\n",
        "import torch.nn.functional as F\n",
        "\n",
        "# Load processor and base model\n",
        "processor = BlipProcessor.from_pretrained(\"Salesforce/blip-vqa-base\")\n",
        "base_model = BlipForQuestionAnswering.from_pretrained(\"Salesforce/blip-vqa-base\")\n",
        "\n",
        "# Load LoRA config and wrap model\n",
        "peft_model = PeftModel.from_pretrained(base_model, \"/kaggle/input/fine_tune_param/pytorch/default/1\")\n",
        "peft_model.eval()\n",
        "peft_model.to(device)"
      ],
      "metadata": {
        "trusted": true,
        "execution": {
          "iopub.status.busy": "2025-05-17T17:42:25.770714Z",
          "iopub.execute_input": "2025-05-17T17:42:25.771047Z",
          "iopub.status.idle": "2025-05-17T17:42:27.944879Z",
          "shell.execute_reply.started": "2025-05-17T17:42:25.771025Z",
          "shell.execute_reply": "2025-05-17T17:42:27.944201Z"
        },
        "id": "pFcP44GyZrjM",
        "outputId": "384cfa5c-87b2-4799-be91-170482129156"
      },
      "outputs": [
        {
          "execution_count": 38,
          "output_type": "execute_result",
          "data": {
            "text/plain": "PeftModel(\n  (base_model): LoraModel(\n    (model): BlipForQuestionAnswering(\n      (vision_model): BlipVisionModel(\n        (embeddings): BlipVisionEmbeddings(\n          (patch_embedding): Conv2d(3, 768, kernel_size=(16, 16), stride=(16, 16))\n        )\n        (encoder): BlipEncoder(\n          (layers): ModuleList(\n            (0-11): 12 x BlipEncoderLayer(\n              (self_attn): BlipAttention(\n                (dropout): Dropout(p=0.0, inplace=False)\n                (qkv): Linear(in_features=768, out_features=2304, bias=True)\n                (projection): Linear(in_features=768, out_features=768, bias=True)\n              )\n              (layer_norm1): LayerNorm((768,), eps=1e-05, elementwise_affine=True)\n              (mlp): BlipMLP(\n                (activation_fn): GELUActivation()\n                (fc1): Linear(in_features=768, out_features=3072, bias=True)\n                (fc2): Linear(in_features=3072, out_features=768, bias=True)\n              )\n              (layer_norm2): LayerNorm((768,), eps=1e-05, elementwise_affine=True)\n            )\n          )\n        )\n        (post_layernorm): LayerNorm((768,), eps=1e-05, elementwise_affine=True)\n      )\n      (text_encoder): BlipTextModel(\n        (embeddings): BlipTextEmbeddings(\n          (word_embeddings): Embedding(30524, 768, padding_idx=0)\n          (position_embeddings): Embedding(512, 768)\n          (LayerNorm): LayerNorm((768,), eps=1e-12, elementwise_affine=True)\n          (dropout): Dropout(p=0.0, inplace=False)\n        )\n        (encoder): BlipTextEncoder(\n          (layer): ModuleList(\n            (0-11): 12 x BlipTextLayer(\n              (attention): BlipTextAttention(\n                (self): BlipTextSelfAttention(\n                  (query): lora.Linear(\n                    (base_layer): Linear(in_features=768, out_features=768, bias=True)\n                    (lora_dropout): ModuleDict(\n                      (default): Dropout(p=0.2, inplace=False)\n                    )\n                    (lora_A): ModuleDict(\n                      (default): Linear(in_features=768, out_features=16, bias=False)\n                    )\n                    (lora_B): ModuleDict(\n                      (default): Linear(in_features=16, out_features=768, bias=False)\n                    )\n                    (lora_embedding_A): ParameterDict()\n                    (lora_embedding_B): ParameterDict()\n                    (lora_magnitude_vector): ModuleDict()\n                  )\n                  (key): Linear(in_features=768, out_features=768, bias=True)\n                  (value): lora.Linear(\n                    (base_layer): Linear(in_features=768, out_features=768, bias=True)\n                    (lora_dropout): ModuleDict(\n                      (default): Dropout(p=0.2, inplace=False)\n                    )\n                    (lora_A): ModuleDict(\n                      (default): Linear(in_features=768, out_features=16, bias=False)\n                    )\n                    (lora_B): ModuleDict(\n                      (default): Linear(in_features=16, out_features=768, bias=False)\n                    )\n                    (lora_embedding_A): ParameterDict()\n                    (lora_embedding_B): ParameterDict()\n                    (lora_magnitude_vector): ModuleDict()\n                  )\n                  (dropout): Dropout(p=0.0, inplace=False)\n                )\n                (output): BlipTextSelfOutput(\n                  (dense): Linear(in_features=768, out_features=768, bias=True)\n                  (LayerNorm): LayerNorm((768,), eps=1e-12, elementwise_affine=True)\n                  (dropout): Dropout(p=0.0, inplace=False)\n                )\n              )\n              (crossattention): BlipTextAttention(\n                (self): BlipTextSelfAttention(\n                  (query): lora.Linear(\n                    (base_layer): Linear(in_features=768, out_features=768, bias=True)\n                    (lora_dropout): ModuleDict(\n                      (default): Dropout(p=0.2, inplace=False)\n                    )\n                    (lora_A): ModuleDict(\n                      (default): Linear(in_features=768, out_features=16, bias=False)\n                    )\n                    (lora_B): ModuleDict(\n                      (default): Linear(in_features=16, out_features=768, bias=False)\n                    )\n                    (lora_embedding_A): ParameterDict()\n                    (lora_embedding_B): ParameterDict()\n                    (lora_magnitude_vector): ModuleDict()\n                  )\n                  (key): Linear(in_features=768, out_features=768, bias=True)\n                  (value): lora.Linear(\n                    (base_layer): Linear(in_features=768, out_features=768, bias=True)\n                    (lora_dropout): ModuleDict(\n                      (default): Dropout(p=0.2, inplace=False)\n                    )\n                    (lora_A): ModuleDict(\n                      (default): Linear(in_features=768, out_features=16, bias=False)\n                    )\n                    (lora_B): ModuleDict(\n                      (default): Linear(in_features=16, out_features=768, bias=False)\n                    )\n                    (lora_embedding_A): ParameterDict()\n                    (lora_embedding_B): ParameterDict()\n                    (lora_magnitude_vector): ModuleDict()\n                  )\n                  (dropout): Dropout(p=0.0, inplace=False)\n                )\n                (output): BlipTextSelfOutput(\n                  (dense): Linear(in_features=768, out_features=768, bias=True)\n                  (LayerNorm): LayerNorm((768,), eps=1e-12, elementwise_affine=True)\n                  (dropout): Dropout(p=0.0, inplace=False)\n                )\n              )\n              (intermediate): BlipTextIntermediate(\n                (dense): Linear(in_features=768, out_features=3072, bias=True)\n                (intermediate_act_fn): GELUActivation()\n              )\n              (output): BlipTextOutput(\n                (dense): Linear(in_features=3072, out_features=768, bias=True)\n                (LayerNorm): LayerNorm((768,), eps=1e-12, elementwise_affine=True)\n                (dropout): Dropout(p=0.0, inplace=False)\n              )\n            )\n          )\n        )\n      )\n      (text_decoder): BlipTextLMHeadModel(\n        (bert): BlipTextModel(\n          (embeddings): BlipTextEmbeddings(\n            (word_embeddings): Embedding(30524, 768, padding_idx=0)\n            (position_embeddings): Embedding(512, 768)\n            (LayerNorm): LayerNorm((768,), eps=1e-12, elementwise_affine=True)\n            (dropout): Dropout(p=0.0, inplace=False)\n          )\n          (encoder): BlipTextEncoder(\n            (layer): ModuleList(\n              (0-11): 12 x BlipTextLayer(\n                (attention): BlipTextAttention(\n                  (self): BlipTextSelfAttention(\n                    (query): lora.Linear(\n                      (base_layer): Linear(in_features=768, out_features=768, bias=True)\n                      (lora_dropout): ModuleDict(\n                        (default): Dropout(p=0.2, inplace=False)\n                      )\n                      (lora_A): ModuleDict(\n                        (default): Linear(in_features=768, out_features=16, bias=False)\n                      )\n                      (lora_B): ModuleDict(\n                        (default): Linear(in_features=16, out_features=768, bias=False)\n                      )\n                      (lora_embedding_A): ParameterDict()\n                      (lora_embedding_B): ParameterDict()\n                      (lora_magnitude_vector): ModuleDict()\n                    )\n                    (key): Linear(in_features=768, out_features=768, bias=True)\n                    (value): lora.Linear(\n                      (base_layer): Linear(in_features=768, out_features=768, bias=True)\n                      (lora_dropout): ModuleDict(\n                        (default): Dropout(p=0.2, inplace=False)\n                      )\n                      (lora_A): ModuleDict(\n                        (default): Linear(in_features=768, out_features=16, bias=False)\n                      )\n                      (lora_B): ModuleDict(\n                        (default): Linear(in_features=16, out_features=768, bias=False)\n                      )\n                      (lora_embedding_A): ParameterDict()\n                      (lora_embedding_B): ParameterDict()\n                      (lora_magnitude_vector): ModuleDict()\n                    )\n                    (dropout): Dropout(p=0.0, inplace=False)\n                  )\n                  (output): BlipTextSelfOutput(\n                    (dense): Linear(in_features=768, out_features=768, bias=True)\n                    (LayerNorm): LayerNorm((768,), eps=1e-12, elementwise_affine=True)\n                    (dropout): Dropout(p=0.0, inplace=False)\n                  )\n                )\n                (crossattention): BlipTextAttention(\n                  (self): BlipTextSelfAttention(\n                    (query): lora.Linear(\n                      (base_layer): Linear(in_features=768, out_features=768, bias=True)\n                      (lora_dropout): ModuleDict(\n                        (default): Dropout(p=0.2, inplace=False)\n                      )\n                      (lora_A): ModuleDict(\n                        (default): Linear(in_features=768, out_features=16, bias=False)\n                      )\n                      (lora_B): ModuleDict(\n                        (default): Linear(in_features=16, out_features=768, bias=False)\n                      )\n                      (lora_embedding_A): ParameterDict()\n                      (lora_embedding_B): ParameterDict()\n                      (lora_magnitude_vector): ModuleDict()\n                    )\n                    (key): Linear(in_features=768, out_features=768, bias=True)\n                    (value): lora.Linear(\n                      (base_layer): Linear(in_features=768, out_features=768, bias=True)\n                      (lora_dropout): ModuleDict(\n                        (default): Dropout(p=0.2, inplace=False)\n                      )\n                      (lora_A): ModuleDict(\n                        (default): Linear(in_features=768, out_features=16, bias=False)\n                      )\n                      (lora_B): ModuleDict(\n                        (default): Linear(in_features=16, out_features=768, bias=False)\n                      )\n                      (lora_embedding_A): ParameterDict()\n                      (lora_embedding_B): ParameterDict()\n                      (lora_magnitude_vector): ModuleDict()\n                    )\n                    (dropout): Dropout(p=0.0, inplace=False)\n                  )\n                  (output): BlipTextSelfOutput(\n                    (dense): Linear(in_features=768, out_features=768, bias=True)\n                    (LayerNorm): LayerNorm((768,), eps=1e-12, elementwise_affine=True)\n                    (dropout): Dropout(p=0.0, inplace=False)\n                  )\n                )\n                (intermediate): BlipTextIntermediate(\n                  (dense): Linear(in_features=768, out_features=3072, bias=True)\n                  (intermediate_act_fn): GELUActivation()\n                )\n                (output): BlipTextOutput(\n                  (dense): Linear(in_features=3072, out_features=768, bias=True)\n                  (LayerNorm): LayerNorm((768,), eps=1e-12, elementwise_affine=True)\n                  (dropout): Dropout(p=0.0, inplace=False)\n                )\n              )\n            )\n          )\n        )\n        (cls): BlipTextOnlyMLMHead(\n          (predictions): BlipTextLMPredictionHead(\n            (transform): BlipTextPredictionHeadTransform(\n              (dense): Linear(in_features=768, out_features=768, bias=True)\n              (transform_act_fn): GELUActivation()\n              (LayerNorm): LayerNorm((768,), eps=1e-12, elementwise_affine=True)\n            )\n            (decoder): Linear(in_features=768, out_features=30524, bias=True)\n          )\n        )\n      )\n    )\n  )\n)"
          },
          "metadata": {}
        }
      ],
      "execution_count": null
    },
    {
      "cell_type": "code",
      "source": [
        "from PIL import Image\n",
        "from tqdm import tqdm\n",
        "predictions = []\n",
        "\n",
        "for img_path, qas in tqdm(list(questions_data.items())):\n",
        "    full_img_path = image_root / Path(img_path).relative_to(\"images/small\")\n",
        "    image = Image.open(full_img_path).convert(\"RGB\")\n",
        "\n",
        "    for qa in qas:\n",
        "        question = qa[\"question\"]\n",
        "        ground_truth = qa[\"answer\"]\n",
        "\n",
        "        # Preprocess and move to device\n",
        "        inputs = processor(image, question, return_tensors=\"pt\").to(device)\n",
        "\n",
        "         # Measure inference time\n",
        "        # start = time.time()\n",
        "        generated_ids = peft_model.generate(**inputs)\n",
        "        # end = time.time()\n",
        "\n",
        "        # total_time += (end - start)\n",
        "\n",
        "\n",
        "\n",
        "        predicted_answer = processor.batch_decode(generated_ids, skip_special_tokens=True)[0]\n",
        "\n",
        "        predictions.append({\n",
        "            \"question\": question,\n",
        "            \"ground_truth\": ground_truth,\n",
        "            \"prediction\": predicted_answer\n",
        "        })\n",
        "print(f\"Average Inference Time: {total_time / total:.3f} seconds/image\")\n"
      ],
      "metadata": {
        "trusted": true,
        "execution": {
          "iopub.status.busy": "2025-05-17T17:42:33.618242Z",
          "iopub.execute_input": "2025-05-17T17:42:33.618537Z",
          "iopub.status.idle": "2025-05-17T17:53:50.239195Z",
          "shell.execute_reply.started": "2025-05-17T17:42:33.618516Z",
          "shell.execute_reply": "2025-05-17T17:53:50.238593Z"
        },
        "id": "_D2nEfFIZrjM",
        "outputId": "73979cda-41bf-4b0c-abda-94cf36456e3e"
      },
      "outputs": [
        {
          "name": "stderr",
          "text": "100%|██████████| 2067/2067 [11:16<00:00,  3.05it/s]\n",
          "output_type": "stream"
        }
      ],
      "execution_count": null
    },
    {
      "cell_type": "markdown",
      "source": [
        "**Exact matching score**"
      ],
      "metadata": {
        "id": "F39mi0CMZrjM"
      }
    },
    {
      "cell_type": "code",
      "source": [
        "exact_matches = 0\n",
        "total = len(predictions)\n",
        "\n",
        "for pred in predictions:\n",
        "    reference = pred[\"ground_truth\"].lower().strip()\n",
        "    hypothesis = pred[\"prediction\"].lower().strip()\n",
        "\n",
        "    if reference == hypothesis:\n",
        "        exact_matches += 1\n",
        "\n",
        "exact_match_acc = exact_matches / total\n",
        "print(f\"Exact Match Accuracy: {exact_match_acc * 100:.2f}%\")\n"
      ],
      "metadata": {
        "trusted": true,
        "execution": {
          "iopub.status.busy": "2025-05-17T17:54:56.073355Z",
          "iopub.execute_input": "2025-05-17T17:54:56.073658Z",
          "iopub.status.idle": "2025-05-17T17:54:56.083902Z",
          "shell.execute_reply.started": "2025-05-17T17:54:56.073636Z",
          "shell.execute_reply": "2025-05-17T17:54:56.083279Z"
        },
        "id": "_oS76gdXZrjM",
        "outputId": "abd1a41c-bf67-4ddd-b029-d161c7497f93"
      },
      "outputs": [
        {
          "name": "stdout",
          "text": "Exact Match Accuracy: 77.91%\n",
          "output_type": "stream"
        }
      ],
      "execution_count": null
    },
    {
      "cell_type": "markdown",
      "source": [
        "**Bertscore**"
      ],
      "metadata": {
        "id": "AdbGEb_rZrjM"
      }
    },
    {
      "cell_type": "code",
      "source": [
        "!pip install evaluate transformers --quiet\n",
        "\n",
        "import evaluate\n",
        "\n",
        "# Load bertscore metric\n",
        "bertscore = evaluate.load(\"bertscore\")\n",
        "\n",
        "# Prepare lists of predictions and references\n",
        "preds = [pred[\"prediction\"] for pred in predictions]\n",
        "refs = [pred[\"ground_truth\"] for pred in predictions]\n",
        "\n",
        "# Compute BERTScore (using a base model like roberta-large)\n",
        "results = bertscore.compute(predictions=preds, references=refs, lang=\"en\")\n",
        "\n",
        "# Print average BERTScore F1\n",
        "average_f1 = sum(results[\"f1\"]) / len(results[\"f1\"])\n",
        "print(f\"Average BERTScore F1: {average_f1:.4f}\")\n"
      ],
      "metadata": {
        "trusted": true,
        "execution": {
          "iopub.status.busy": "2025-05-17T17:55:00.587148Z",
          "iopub.execute_input": "2025-05-17T17:55:00.587799Z",
          "iopub.status.idle": "2025-05-17T17:55:07.533360Z",
          "shell.execute_reply.started": "2025-05-17T17:55:00.587779Z",
          "shell.execute_reply": "2025-05-17T17:55:07.532482Z"
        },
        "id": "QMIk_UeFZrjN",
        "outputId": "a8e1482b-1768-4806-8bfc-4bc2923268b1"
      },
      "outputs": [
        {
          "name": "stderr",
          "text": "huggingface/tokenizers: The current process just got forked, after parallelism has already been used. Disabling parallelism to avoid deadlocks...\nTo disable this warning, you can either:\n\t- Avoid using `tokenizers` before the fork if possible\n\t- Explicitly set the environment variable TOKENIZERS_PARALLELISM=(true | false)\nSome weights of RobertaModel were not initialized from the model checkpoint at roberta-large and are newly initialized: ['pooler.dense.bias', 'pooler.dense.weight']\nYou should probably TRAIN this model on a down-stream task to be able to use it for predictions and inference.\n",
          "output_type": "stream"
        },
        {
          "name": "stdout",
          "text": "Average BERTScore F1: 0.9753\n",
          "output_type": "stream"
        }
      ],
      "execution_count": null
    },
    {
      "cell_type": "markdown",
      "source": [
        "**BLEU and METEOR score**"
      ],
      "metadata": {
        "id": "4luXiJ12ZrjN"
      }
    },
    {
      "cell_type": "code",
      "source": [
        "from nltk.translate.bleu_score import sentence_bleu, SmoothingFunction\n",
        "from nltk.translate.meteor_score import meteor_score\n",
        "import numpy as np\n",
        "\n",
        "smoother = SmoothingFunction().method4\n",
        "\n",
        "bleu_scores = []\n",
        "meteor_scores = []\n",
        "\n",
        "for item in predictions:\n",
        "    reference = [item[\"ground_truth\"].lower().split()]  # List of reference tokens\n",
        "    candidate = item[\"prediction\"].lower().split()      # Predicted tokens\n",
        "\n",
        "    # Compute BLEU score\n",
        "    bleu = sentence_bleu(reference, candidate, smoothing_function=smoother)\n",
        "    bleu_scores.append(bleu)\n",
        "\n",
        "# Aggregate results\n",
        "avg_bleu = np.mean(bleu_scores)\n",
        "print(f\"\\nAverage BLEU Score: {avg_bleu:.4f}\")\n",
        "\n",
        "\n",
        "\n",
        "preds = [item[\"prediction\"] for item in predictions]\n",
        "gts = [item[\"ground_truth\"] for item in predictions]\n",
        "\n",
        "meteor_scores = [\n",
        "    single_meteor_score(word_tokenize(gt), word_tokenize(pred))\n",
        "    for gt, pred in zip(gts, preds)\n",
        "]\n",
        "\n",
        "average_meteor = sum(meteor_scores) / len(meteor_scores)\n",
        "print(f\"Average METEOR score: {average_meteor:.4f}\")\n"
      ],
      "metadata": {
        "trusted": true,
        "execution": {
          "iopub.status.busy": "2025-05-17T18:03:22.929337Z",
          "iopub.execute_input": "2025-05-17T18:03:22.929579Z",
          "iopub.status.idle": "2025-05-17T18:03:23.801718Z",
          "shell.execute_reply.started": "2025-05-17T18:03:22.929563Z",
          "shell.execute_reply": "2025-05-17T18:03:23.801043Z"
        },
        "id": "Cyu6cWEdZrjN",
        "outputId": "e7dd2e1c-b865-445c-b2bc-51d9c6493d53"
      },
      "outputs": [
        {
          "name": "stdout",
          "text": "\nAverage BLEU Score: 0.7791\nAverage METEOR score: 0.3933\n",
          "output_type": "stream"
        }
      ],
      "execution_count": null
    },
    {
      "cell_type": "markdown",
      "source": [
        "**MAP**"
      ],
      "metadata": {
        "id": "fU6yry5AZrjN"
      }
    },
    {
      "cell_type": "code",
      "source": [
        "\n",
        "\n",
        "import pandas as pd\n",
        "import matplotlib.pyplot as plt\n",
        "import seaborn as sns\n",
        "\n",
        "df = pd.DataFrame(predictions)\n",
        "\n",
        "def get_question_type(question):\n",
        "    if \"color\" in question.lower():\n",
        "        return \"color\"\n",
        "    elif \"material\" in question.lower():\n",
        "        return \"material\"\n",
        "    elif \"brand\" in question.lower():\n",
        "        return \"brand\"\n",
        "    elif \"category\" in question.lower():\n",
        "        return \"category\"\n",
        "    else:\n",
        "        return \"other\"\n",
        "\n",
        "df[\"type\"] = df[\"question\"].apply(get_question_type)\n",
        "df[\"correct\"] = df[\"prediction\"].str.strip().str.lower() == df[\"ground_truth\"].str.strip().str.lower()\n",
        "\n",
        "# Accuracy by type\n",
        "accuracy_by_type = df.groupby(\"type\")[\"correct\"].mean().reset_index()\n",
        "\n",
        "# Plot heatmap\n",
        "plt.figure(figsize=(8, 5))\n",
        "sns.barplot(x=\"type\", y=\"correct\", data=accuracy_by_type)\n",
        "plt.title(\"Accuracy by Question Type\")\n",
        "plt.ylabel(\"Accuracy\")\n",
        "plt.xlabel(\"Question Type\")\n",
        "plt.ylim(0, 1)\n",
        "plt.grid(axis='y')\n",
        "plt.tight_layout()\n",
        "plt.show()\n"
      ],
      "metadata": {
        "trusted": true,
        "execution": {
          "iopub.status.busy": "2025-05-17T18:03:26.888904Z",
          "iopub.execute_input": "2025-05-17T18:03:26.889412Z",
          "iopub.status.idle": "2025-05-17T18:03:27.066093Z",
          "shell.execute_reply.started": "2025-05-17T18:03:26.889382Z",
          "shell.execute_reply": "2025-05-17T18:03:27.065260Z"
        },
        "id": "MuXlMcEuZrjN",
        "outputId": "70941520-a82b-41a2-93b7-724805e24954"
      },
      "outputs": [
        {
          "output_type": "display_data",
          "data": {
            "text/plain": "<Figure size 800x500 with 1 Axes>",
            "image/png": "[encoded data removed]"
          },
          "metadata": {}
        }
      ],
      "execution_count": null
    },
    {
      "cell_type": "markdown",
      "source": [
        "# **Evaluating fine-tuning blip model - hyperparameter**"
      ],
      "metadata": {
        "id": "RDryPsMqZrjN"
      }
    },
    {
      "cell_type": "code",
      "source": [
        "from transformers import ViltProcessor, ViltForQuestionAnswering\n",
        "import torch\n",
        "from PIL import Image\n",
        "from transformers import BlipProcessor, BlipForQuestionAnswering\n",
        "\n",
        "device = torch.device(\"cuda\" if torch.cuda.is_available() else \"cpu\")\n",
        "\n",
        "from transformers import BlipForQuestionAnswering, BlipProcessor\n",
        "from peft import PeftModel, PeftConfig\n",
        "import torch\n",
        "from tqdm import tqdm\n",
        "import torch.nn.functional as F\n",
        "\n",
        "# Load processor and base model\n",
        "processor = BlipProcessor.from_pretrained(\"Salesforce/blip-vqa-base\")\n",
        "base_model = BlipForQuestionAnswering.from_pretrained(\"Salesforce/blip-vqa-base\")\n",
        "\n",
        "# Load LoRA config and wrap model\n",
        "peft_model = PeftModel.from_pretrained(base_model, \"/kaggle/input/5epochyper/pytorch/default/1\")\n",
        "peft_model.eval()\n",
        "peft_model.to(device)"
      ],
      "metadata": {
        "trusted": true,
        "execution": {
          "iopub.status.busy": "2025-05-17T18:57:47.952816Z",
          "iopub.execute_input": "2025-05-17T18:57:47.953537Z",
          "iopub.status.idle": "2025-05-17T18:57:50.072726Z",
          "shell.execute_reply.started": "2025-05-17T18:57:47.953512Z",
          "shell.execute_reply": "2025-05-17T18:57:50.072049Z"
        },
        "id": "jLSYJxmwZrjN",
        "outputId": "3a9cfbb7-b09b-48a1-ca6b-9500bcaf6772"
      },
      "outputs": [
        {
          "execution_count": 46,
          "output_type": "execute_result",
          "data": {
            "text/plain": "PeftModel(\n  (base_model): LoraModel(\n    (model): BlipForQuestionAnswering(\n      (vision_model): BlipVisionModel(\n        (embeddings): BlipVisionEmbeddings(\n          (patch_embedding): Conv2d(3, 768, kernel_size=(16, 16), stride=(16, 16))\n        )\n        (encoder): BlipEncoder(\n          (layers): ModuleList(\n            (0-11): 12 x BlipEncoderLayer(\n              (self_attn): BlipAttention(\n                (dropout): Dropout(p=0.0, inplace=False)\n                (qkv): Linear(in_features=768, out_features=2304, bias=True)\n                (projection): Linear(in_features=768, out_features=768, bias=True)\n              )\n              (layer_norm1): LayerNorm((768,), eps=1e-05, elementwise_affine=True)\n              (mlp): BlipMLP(\n                (activation_fn): GELUActivation()\n                (fc1): Linear(in_features=768, out_features=3072, bias=True)\n                (fc2): Linear(in_features=3072, out_features=768, bias=True)\n              )\n              (layer_norm2): LayerNorm((768,), eps=1e-05, elementwise_affine=True)\n            )\n          )\n        )\n        (post_layernorm): LayerNorm((768,), eps=1e-05, elementwise_affine=True)\n      )\n      (text_encoder): BlipTextModel(\n        (embeddings): BlipTextEmbeddings(\n          (word_embeddings): Embedding(30524, 768, padding_idx=0)\n          (position_embeddings): Embedding(512, 768)\n          (LayerNorm): LayerNorm((768,), eps=1e-12, elementwise_affine=True)\n          (dropout): Dropout(p=0.0, inplace=False)\n        )\n        (encoder): BlipTextEncoder(\n          (layer): ModuleList(\n            (0-11): 12 x BlipTextLayer(\n              (attention): BlipTextAttention(\n                (self): BlipTextSelfAttention(\n                  (query): lora.Linear(\n                    (base_layer): Linear(in_features=768, out_features=768, bias=True)\n                    (lora_dropout): ModuleDict(\n                      (default): Dropout(p=0.2, inplace=False)\n                    )\n                    (lora_A): ModuleDict(\n                      (default): Linear(in_features=768, out_features=16, bias=False)\n                    )\n                    (lora_B): ModuleDict(\n                      (default): Linear(in_features=16, out_features=768, bias=False)\n                    )\n                    (lora_embedding_A): ParameterDict()\n                    (lora_embedding_B): ParameterDict()\n                    (lora_magnitude_vector): ModuleDict()\n                  )\n                  (key): Linear(in_features=768, out_features=768, bias=True)\n                  (value): lora.Linear(\n                    (base_layer): Linear(in_features=768, out_features=768, bias=True)\n                    (lora_dropout): ModuleDict(\n                      (default): Dropout(p=0.2, inplace=False)\n                    )\n                    (lora_A): ModuleDict(\n                      (default): Linear(in_features=768, out_features=16, bias=False)\n                    )\n                    (lora_B): ModuleDict(\n                      (default): Linear(in_features=16, out_features=768, bias=False)\n                    )\n                    (lora_embedding_A): ParameterDict()\n                    (lora_embedding_B): ParameterDict()\n                    (lora_magnitude_vector): ModuleDict()\n                  )\n                  (dropout): Dropout(p=0.0, inplace=False)\n                )\n                (output): BlipTextSelfOutput(\n                  (dense): Linear(in_features=768, out_features=768, bias=True)\n                  (LayerNorm): LayerNorm((768,), eps=1e-12, elementwise_affine=True)\n                  (dropout): Dropout(p=0.0, inplace=False)\n                )\n              )\n              (crossattention): BlipTextAttention(\n                (self): BlipTextSelfAttention(\n                  (query): lora.Linear(\n                    (base_layer): Linear(in_features=768, out_features=768, bias=True)\n                    (lora_dropout): ModuleDict(\n                      (default): Dropout(p=0.2, inplace=False)\n                    )\n                    (lora_A): ModuleDict(\n                      (default): Linear(in_features=768, out_features=16, bias=False)\n                    )\n                    (lora_B): ModuleDict(\n                      (default): Linear(in_features=16, out_features=768, bias=False)\n                    )\n                    (lora_embedding_A): ParameterDict()\n                    (lora_embedding_B): ParameterDict()\n                    (lora_magnitude_vector): ModuleDict()\n                  )\n                  (key): Linear(in_features=768, out_features=768, bias=True)\n                  (value): lora.Linear(\n                    (base_layer): Linear(in_features=768, out_features=768, bias=True)\n                    (lora_dropout): ModuleDict(\n                      (default): Dropout(p=0.2, inplace=False)\n                    )\n                    (lora_A): ModuleDict(\n                      (default): Linear(in_features=768, out_features=16, bias=False)\n                    )\n                    (lora_B): ModuleDict(\n                      (default): Linear(in_features=16, out_features=768, bias=False)\n                    )\n                    (lora_embedding_A): ParameterDict()\n                    (lora_embedding_B): ParameterDict()\n                    (lora_magnitude_vector): ModuleDict()\n                  )\n                  (dropout): Dropout(p=0.0, inplace=False)\n                )\n                (output): BlipTextSelfOutput(\n                  (dense): Linear(in_features=768, out_features=768, bias=True)\n                  (LayerNorm): LayerNorm((768,), eps=1e-12, elementwise_affine=True)\n                  (dropout): Dropout(p=0.0, inplace=False)\n                )\n              )\n              (intermediate): BlipTextIntermediate(\n                (dense): Linear(in_features=768, out_features=3072, bias=True)\n                (intermediate_act_fn): GELUActivation()\n              )\n              (output): BlipTextOutput(\n                (dense): Linear(in_features=3072, out_features=768, bias=True)\n                (LayerNorm): LayerNorm((768,), eps=1e-12, elementwise_affine=True)\n                (dropout): Dropout(p=0.0, inplace=False)\n              )\n            )\n          )\n        )\n      )\n      (text_decoder): BlipTextLMHeadModel(\n        (bert): BlipTextModel(\n          (embeddings): BlipTextEmbeddings(\n            (word_embeddings): Embedding(30524, 768, padding_idx=0)\n            (position_embeddings): Embedding(512, 768)\n            (LayerNorm): LayerNorm((768,), eps=1e-12, elementwise_affine=True)\n            (dropout): Dropout(p=0.0, inplace=False)\n          )\n          (encoder): BlipTextEncoder(\n            (layer): ModuleList(\n              (0-11): 12 x BlipTextLayer(\n                (attention): BlipTextAttention(\n                  (self): BlipTextSelfAttention(\n                    (query): lora.Linear(\n                      (base_layer): Linear(in_features=768, out_features=768, bias=True)\n                      (lora_dropout): ModuleDict(\n                        (default): Dropout(p=0.2, inplace=False)\n                      )\n                      (lora_A): ModuleDict(\n                        (default): Linear(in_features=768, out_features=16, bias=False)\n                      )\n                      (lora_B): ModuleDict(\n                        (default): Linear(in_features=16, out_features=768, bias=False)\n                      )\n                      (lora_embedding_A): ParameterDict()\n                      (lora_embedding_B): ParameterDict()\n                      (lora_magnitude_vector): ModuleDict()\n                    )\n                    (key): Linear(in_features=768, out_features=768, bias=True)\n                    (value): lora.Linear(\n                      (base_layer): Linear(in_features=768, out_features=768, bias=True)\n                      (lora_dropout): ModuleDict(\n                        (default): Dropout(p=0.2, inplace=False)\n                      )\n                      (lora_A): ModuleDict(\n                        (default): Linear(in_features=768, out_features=16, bias=False)\n                      )\n                      (lora_B): ModuleDict(\n                        (default): Linear(in_features=16, out_features=768, bias=False)\n                      )\n                      (lora_embedding_A): ParameterDict()\n                      (lora_embedding_B): ParameterDict()\n                      (lora_magnitude_vector): ModuleDict()\n                    )\n                    (dropout): Dropout(p=0.0, inplace=False)\n                  )\n                  (output): BlipTextSelfOutput(\n                    (dense): Linear(in_features=768, out_features=768, bias=True)\n                    (LayerNorm): LayerNorm((768,), eps=1e-12, elementwise_affine=True)\n                    (dropout): Dropout(p=0.0, inplace=False)\n                  )\n                )\n                (crossattention): BlipTextAttention(\n                  (self): BlipTextSelfAttention(\n                    (query): lora.Linear(\n                      (base_layer): Linear(in_features=768, out_features=768, bias=True)\n                      (lora_dropout): ModuleDict(\n                        (default): Dropout(p=0.2, inplace=False)\n                      )\n                      (lora_A): ModuleDict(\n                        (default): Linear(in_features=768, out_features=16, bias=False)\n                      )\n                      (lora_B): ModuleDict(\n                        (default): Linear(in_features=16, out_features=768, bias=False)\n                      )\n                      (lora_embedding_A): ParameterDict()\n                      (lora_embedding_B): ParameterDict()\n                      (lora_magnitude_vector): ModuleDict()\n                    )\n                    (key): Linear(in_features=768, out_features=768, bias=True)\n                    (value): lora.Linear(\n                      (base_layer): Linear(in_features=768, out_features=768, bias=True)\n                      (lora_dropout): ModuleDict(\n                        (default): Dropout(p=0.2, inplace=False)\n                      )\n                      (lora_A): ModuleDict(\n                        (default): Linear(in_features=768, out_features=16, bias=False)\n                      )\n                      (lora_B): ModuleDict(\n                        (default): Linear(in_features=16, out_features=768, bias=False)\n                      )\n                      (lora_embedding_A): ParameterDict()\n                      (lora_embedding_B): ParameterDict()\n                      (lora_magnitude_vector): ModuleDict()\n                    )\n                    (dropout): Dropout(p=0.0, inplace=False)\n                  )\n                  (output): BlipTextSelfOutput(\n                    (dense): Linear(in_features=768, out_features=768, bias=True)\n                    (LayerNorm): LayerNorm((768,), eps=1e-12, elementwise_affine=True)\n                    (dropout): Dropout(p=0.0, inplace=False)\n                  )\n                )\n                (intermediate): BlipTextIntermediate(\n                  (dense): Linear(in_features=768, out_features=3072, bias=True)\n                  (intermediate_act_fn): GELUActivation()\n                )\n                (output): BlipTextOutput(\n                  (dense): Linear(in_features=3072, out_features=768, bias=True)\n                  (LayerNorm): LayerNorm((768,), eps=1e-12, elementwise_affine=True)\n                  (dropout): Dropout(p=0.0, inplace=False)\n                )\n              )\n            )\n          )\n        )\n        (cls): BlipTextOnlyMLMHead(\n          (predictions): BlipTextLMPredictionHead(\n            (transform): BlipTextPredictionHeadTransform(\n              (dense): Linear(in_features=768, out_features=768, bias=True)\n              (transform_act_fn): GELUActivation()\n              (LayerNorm): LayerNorm((768,), eps=1e-12, elementwise_affine=True)\n            )\n            (decoder): Linear(in_features=768, out_features=30524, bias=True)\n          )\n        )\n      )\n    )\n  )\n)"
          },
          "metadata": {}
        }
      ],
      "execution_count": null
    },
    {
      "cell_type": "code",
      "source": [
        "from PIL import Image\n",
        "from tqdm import tqdm\n",
        "predictions = []\n",
        "\n",
        "for img_path, qas in tqdm(list(questions_data.items())):\n",
        "    full_img_path = image_root / Path(img_path).relative_to(\"images/small\")\n",
        "    image = Image.open(full_img_path).convert(\"RGB\")\n",
        "\n",
        "    for qa in qas:\n",
        "        question = qa[\"question\"]\n",
        "        ground_truth = qa[\"answer\"]\n",
        "\n",
        "        # Preprocess and move to device\n",
        "        inputs = processor(image, question, return_tensors=\"pt\").to(device)\n",
        "\n",
        "         # Measure inference time\n",
        "        # start = time.time()\n",
        "        generated_ids = peft_model.generate(**inputs)\n",
        "        # end = time.time()\n",
        "\n",
        "        # total_time += (end - start)\n",
        "\n",
        "\n",
        "\n",
        "        predicted_answer = processor.batch_decode(generated_ids, skip_special_tokens=True)[0]\n",
        "\n",
        "        predictions.append({\n",
        "            \"question\": question,\n",
        "            \"ground_truth\": ground_truth,\n",
        "            \"prediction\": predicted_answer\n",
        "        })\n",
        "# print(f\"Average Inference Time: {total_time / total:.3f} seconds/image\")\n"
      ],
      "metadata": {
        "trusted": true,
        "execution": {
          "iopub.status.busy": "2025-05-17T18:57:56.494656Z",
          "iopub.execute_input": "2025-05-17T18:57:56.494910Z",
          "iopub.status.idle": "2025-05-17T19:09:15.132444Z",
          "shell.execute_reply.started": "2025-05-17T18:57:56.494893Z",
          "shell.execute_reply": "2025-05-17T19:09:15.131792Z"
        },
        "id": "dBHsecZzZrjO",
        "outputId": "c8ea0a80-e3ad-402e-cd65-968d04e831ce"
      },
      "outputs": [
        {
          "name": "stderr",
          "text": "100%|██████████| 2067/2067 [11:18<00:00,  3.05it/s]\n",
          "output_type": "stream"
        }
      ],
      "execution_count": null
    },
    {
      "cell_type": "markdown",
      "source": [
        "**Exact matching score**"
      ],
      "metadata": {
        "id": "rp1R80VvZrjO"
      }
    },
    {
      "cell_type": "code",
      "source": [
        "exact_matches = 0\n",
        "total = len(predictions)\n",
        "\n",
        "for pred in predictions:\n",
        "    reference = pred[\"ground_truth\"].lower().strip()\n",
        "    hypothesis = pred[\"prediction\"].lower().strip()\n",
        "\n",
        "    if reference == hypothesis:\n",
        "        exact_matches += 1\n",
        "\n",
        "exact_match_acc = exact_matches / total\n",
        "print(f\"Exact Match Accuracy: {exact_match_acc * 100:.2f}%\")\n"
      ],
      "metadata": {
        "trusted": true,
        "execution": {
          "iopub.status.busy": "2025-05-17T19:09:19.285448Z",
          "iopub.execute_input": "2025-05-17T19:09:19.285720Z",
          "iopub.status.idle": "2025-05-17T19:09:19.294834Z",
          "shell.execute_reply.started": "2025-05-17T19:09:19.285700Z",
          "shell.execute_reply": "2025-05-17T19:09:19.293919Z"
        },
        "id": "W_WEf04MZrjO",
        "outputId": "70eac193-35b8-481a-a115-5c5fdce7ef74"
      },
      "outputs": [
        {
          "name": "stdout",
          "text": "Exact Match Accuracy: 77.58%\n",
          "output_type": "stream"
        }
      ],
      "execution_count": null
    },
    {
      "cell_type": "markdown",
      "source": [
        "**Bertscore**"
      ],
      "metadata": {
        "id": "CCaCsPHuZrjO"
      }
    },
    {
      "cell_type": "code",
      "source": [
        "!pip install evaluate transformers --quiet\n",
        "\n",
        "import evaluate\n",
        "\n",
        "# Load bertscore metric\n",
        "bertscore = evaluate.load(\"bertscore\")\n",
        "\n",
        "# Prepare lists of predictions and references\n",
        "preds = [pred[\"prediction\"] for pred in predictions]\n",
        "refs = [pred[\"ground_truth\"] for pred in predictions]\n",
        "\n",
        "# Compute BERTScore (using a base model like roberta-large)\n",
        "results = bertscore.compute(predictions=preds, references=refs, lang=\"en\")\n",
        "\n",
        "# Print average BERTScore F1\n",
        "average_f1 = sum(results[\"f1\"]) / len(results[\"f1\"])\n",
        "print(f\"Average BERTScore F1: {average_f1:.4f}\")\n"
      ],
      "metadata": {
        "trusted": true,
        "execution": {
          "iopub.status.busy": "2025-05-17T19:09:24.711122Z",
          "iopub.execute_input": "2025-05-17T19:09:24.711582Z",
          "iopub.status.idle": "2025-05-17T19:09:31.601834Z",
          "shell.execute_reply.started": "2025-05-17T19:09:24.711559Z",
          "shell.execute_reply": "2025-05-17T19:09:31.601030Z"
        },
        "id": "s-_ewzfbZrjO",
        "outputId": "068a1f30-d399-4e80-b111-4fa2161308f1"
      },
      "outputs": [
        {
          "name": "stderr",
          "text": "huggingface/tokenizers: The current process just got forked, after parallelism has already been used. Disabling parallelism to avoid deadlocks...\nTo disable this warning, you can either:\n\t- Avoid using `tokenizers` before the fork if possible\n\t- Explicitly set the environment variable TOKENIZERS_PARALLELISM=(true | false)\nSome weights of RobertaModel were not initialized from the model checkpoint at roberta-large and are newly initialized: ['pooler.dense.bias', 'pooler.dense.weight']\nYou should probably TRAIN this model on a down-stream task to be able to use it for predictions and inference.\n",
          "output_type": "stream"
        },
        {
          "name": "stdout",
          "text": "Average BERTScore F1: 0.9753\n",
          "output_type": "stream"
        }
      ],
      "execution_count": null
    },
    {
      "cell_type": "markdown",
      "source": [
        "**BLEU and METEOR score**"
      ],
      "metadata": {
        "id": "mrvLS6bJZrjO"
      }
    },
    {
      "cell_type": "code",
      "source": [
        "from nltk.translate.bleu_score import sentence_bleu, SmoothingFunction\n",
        "from nltk.translate.meteor_score import meteor_score\n",
        "import numpy as np\n",
        "\n",
        "smoother = SmoothingFunction().method4\n",
        "\n",
        "bleu_scores = []\n",
        "meteor_scores = []\n",
        "\n",
        "for item in predictions:\n",
        "    reference = [item[\"ground_truth\"].lower().split()]  # List of reference tokens\n",
        "    candidate = item[\"prediction\"].lower().split()      # Predicted tokens\n",
        "\n",
        "    # Compute BLEU score\n",
        "    bleu = sentence_bleu(reference, candidate, smoothing_function=smoother)\n",
        "    bleu_scores.append(bleu)\n",
        "\n",
        "# Aggregate results\n",
        "avg_bleu = np.mean(bleu_scores)\n",
        "print(f\"\\nAverage BLEU Score: {avg_bleu:.4f}\")\n",
        "\n",
        "\n",
        "\n",
        "preds = [item[\"prediction\"] for item in predictions]\n",
        "gts = [item[\"ground_truth\"] for item in predictions]\n",
        "\n",
        "meteor_scores = [\n",
        "    single_meteor_score(word_tokenize(gt), word_tokenize(pred))\n",
        "    for gt, pred in zip(gts, preds)\n",
        "]\n",
        "\n",
        "average_meteor = sum(meteor_scores) / len(meteor_scores)\n",
        "print(f\"Average METEOR score: {average_meteor:.4f}\")\n"
      ],
      "metadata": {
        "trusted": true,
        "execution": {
          "iopub.status.busy": "2025-05-17T19:09:36.971257Z",
          "iopub.execute_input": "2025-05-17T19:09:36.971790Z",
          "iopub.status.idle": "2025-05-17T19:09:37.853165Z",
          "shell.execute_reply.started": "2025-05-17T19:09:36.971762Z",
          "shell.execute_reply": "2025-05-17T19:09:37.852484Z"
        },
        "id": "6mUq56HJZrjP",
        "outputId": "6d13a658-dbb0-4dd5-c3e5-cb9d2c3b1f8a"
      },
      "outputs": [
        {
          "name": "stdout",
          "text": "\nAverage BLEU Score: 0.7758\nAverage METEOR score: 0.3921\n",
          "output_type": "stream"
        }
      ],
      "execution_count": null
    },
    {
      "cell_type": "markdown",
      "source": [
        "**MAP**"
      ],
      "metadata": {
        "id": "V7lbOc7MZrjP"
      }
    },
    {
      "cell_type": "code",
      "source": [
        "\n",
        "\n",
        "import pandas as pd\n",
        "import matplotlib.pyplot as plt\n",
        "import seaborn as sns\n",
        "\n",
        "df = pd.DataFrame(predictions)\n",
        "\n",
        "def get_question_type(question):\n",
        "    if \"color\" in question.lower():\n",
        "        return \"color\"\n",
        "    elif \"material\" in question.lower():\n",
        "        return \"material\"\n",
        "    elif \"brand\" in question.lower():\n",
        "        return \"brand\"\n",
        "    elif \"category\" in question.lower():\n",
        "        return \"category\"\n",
        "    else:\n",
        "        return \"other\"\n",
        "\n",
        "df[\"type\"] = df[\"question\"].apply(get_question_type)\n",
        "df[\"correct\"] = df[\"prediction\"].str.strip().str.lower() == df[\"ground_truth\"].str.strip().str.lower()\n",
        "\n",
        "accuracy_by_type = df.groupby(\"type\")[\"correct\"].mean().reset_index()\n",
        "\n",
        "# Plot heatmap\n",
        "plt.figure(figsize=(8, 5))\n",
        "sns.barplot(x=\"type\", y=\"correct\", data=accuracy_by_type)\n",
        "plt.title(\"Accuracy by Question Type\")\n",
        "plt.ylabel(\"Accuracy\")\n",
        "plt.xlabel(\"Question Type\")\n",
        "plt.ylim(0, 1)\n",
        "plt.grid(axis='y')\n",
        "plt.tight_layout()\n",
        "plt.show()\n"
      ],
      "metadata": {
        "trusted": true,
        "execution": {
          "iopub.status.busy": "2025-05-17T19:09:43.362433Z",
          "iopub.execute_input": "2025-05-17T19:09:43.363147Z",
          "iopub.status.idle": "2025-05-17T19:09:43.528753Z",
          "shell.execute_reply.started": "2025-05-17T19:09:43.363124Z",
          "shell.execute_reply": "2025-05-17T19:09:43.528017Z"
        },
        "id": "-LAlaWlIZrjP",
        "outputId": "f86026d5-b2ba-4707-b70c-7ecf1e254b69"
      },
      "outputs": [
        {
          "output_type": "display_data",
          "data": {
            "text/plain": "<Figure size 800x500 with 1 Axes>",
            "image/png": "[encoded data removed]"
          },
          "metadata": {}
        }
      ],
      "execution_count": null
    },
    {
      "cell_type": "markdown",
      "source": [
        "**Quantization**"
      ],
      "metadata": {
        "id": "C5ssmeEpZrjP"
      }
    },
    {
      "cell_type": "code",
      "source": [
        "!pip install -q bitsandbytes accelerate transformers peft\n",
        "!pip install -U bitsandbytes transformers accelerate\n"
      ],
      "metadata": {
        "trusted": true,
        "execution": {
          "iopub.status.busy": "2025-05-18T12:33:03.524560Z",
          "iopub.execute_input": "2025-05-18T12:33:03.524837Z",
          "iopub.status.idle": "2025-05-18T12:33:18.405889Z",
          "shell.execute_reply.started": "2025-05-18T12:33:03.524816Z",
          "shell.execute_reply": "2025-05-18T12:33:18.404838Z"
        },
        "colab": {
          "base_uri": "https://localhost:8080/"
        },
        "id": "MDZMQiRCZrjP",
        "outputId": "9365df5a-dcdb-45b6-a777-886502e1b35a"
      },
      "outputs": [
        {
          "output_type": "stream",
          "name": "stdout",
          "text": [
            "Requirement already satisfied: bitsandbytes in /usr/local/lib/python3.11/dist-packages (0.45.5)\n",
            "Requirement already satisfied: transformers in /usr/local/lib/python3.11/dist-packages (4.51.3)\n",
            "Requirement already satisfied: accelerate in /usr/local/lib/python3.11/dist-packages (1.7.0)\n",
            "Requirement already satisfied: torch<3,>=2.0 in /usr/local/lib/python3.11/dist-packages (from bitsandbytes) (2.6.0+cu124)\n",
            "Requirement already satisfied: numpy>=1.17 in /usr/local/lib/python3.11/dist-packages (from bitsandbytes) (2.0.2)\n",
            "Requirement already satisfied: filelock in /usr/local/lib/python3.11/dist-packages (from transformers) (3.18.0)\n",
            "Requirement already satisfied: huggingface-hub<1.0,>=0.30.0 in /usr/local/lib/python3.11/dist-packages (from transformers) (0.31.2)\n",
            "Requirement already satisfied: packaging>=20.0 in /usr/local/lib/python3.11/dist-packages (from transformers) (24.2)\n",
            "Requirement already satisfied: pyyaml>=5.1 in /usr/local/lib/python3.11/dist-packages (from transformers) (6.0.2)\n",
            "Requirement already satisfied: regex!=2019.12.17 in /usr/local/lib/python3.11/dist-packages (from transformers) (2024.11.6)\n",
            "Requirement already satisfied: requests in /usr/local/lib/python3.11/dist-packages (from transformers) (2.32.3)\n",
            "Requirement already satisfied: tokenizers<0.22,>=0.21 in /usr/local/lib/python3.11/dist-packages (from transformers) (0.21.1)\n",
            "Requirement already satisfied: safetensors>=0.4.3 in /usr/local/lib/python3.11/dist-packages (from transformers) (0.5.3)\n",
            "Requirement already satisfied: tqdm>=4.27 in /usr/local/lib/python3.11/dist-packages (from transformers) (4.67.1)\n",
            "Requirement already satisfied: psutil in /usr/local/lib/python3.11/dist-packages (from accelerate) (5.9.5)\n",
            "Requirement already satisfied: fsspec>=2023.5.0 in /usr/local/lib/python3.11/dist-packages (from huggingface-hub<1.0,>=0.30.0->transformers) (2025.3.2)\n",
            "Requirement already satisfied: typing-extensions>=3.7.4.3 in /usr/local/lib/python3.11/dist-packages (from huggingface-hub<1.0,>=0.30.0->transformers) (4.13.2)\n",
            "Requirement already satisfied: networkx in /usr/local/lib/python3.11/dist-packages (from torch<3,>=2.0->bitsandbytes) (3.4.2)\n",
            "Requirement already satisfied: jinja2 in /usr/local/lib/python3.11/dist-packages (from torch<3,>=2.0->bitsandbytes) (3.1.6)\n",
            "Requirement already satisfied: nvidia-cuda-nvrtc-cu12==12.4.127 in /usr/local/lib/python3.11/dist-packages (from torch<3,>=2.0->bitsandbytes) (12.4.127)\n",
            "Requirement already satisfied: nvidia-cuda-runtime-cu12==12.4.127 in /usr/local/lib/python3.11/dist-packages (from torch<3,>=2.0->bitsandbytes) (12.4.127)\n",
            "Requirement already satisfied: nvidia-cuda-cupti-cu12==12.4.127 in /usr/local/lib/python3.11/dist-packages (from torch<3,>=2.0->bitsandbytes) (12.4.127)\n",
            "Requirement already satisfied: nvidia-cudnn-cu12==9.1.0.70 in /usr/local/lib/python3.11/dist-packages (from torch<3,>=2.0->bitsandbytes) (9.1.0.70)\n",
            "Requirement already satisfied: nvidia-cublas-cu12==12.4.5.8 in /usr/local/lib/python3.11/dist-packages (from torch<3,>=2.0->bitsandbytes) (12.4.5.8)\n",
            "Requirement already satisfied: nvidia-cufft-cu12==11.2.1.3 in /usr/local/lib/python3.11/dist-packages (from torch<3,>=2.0->bitsandbytes) (11.2.1.3)\n",
            "Requirement already satisfied: nvidia-curand-cu12==10.3.5.147 in /usr/local/lib/python3.11/dist-packages (from torch<3,>=2.0->bitsandbytes) (10.3.5.147)\n",
            "Requirement already satisfied: nvidia-cusolver-cu12==11.6.1.9 in /usr/local/lib/python3.11/dist-packages (from torch<3,>=2.0->bitsandbytes) (11.6.1.9)\n",
            "Requirement already satisfied: nvidia-cusparse-cu12==12.3.1.170 in /usr/local/lib/python3.11/dist-packages (from torch<3,>=2.0->bitsandbytes) (12.3.1.170)\n",
            "Requirement already satisfied: nvidia-cusparselt-cu12==0.6.2 in /usr/local/lib/python3.11/dist-packages (from torch<3,>=2.0->bitsandbytes) (0.6.2)\n",
            "Requirement already satisfied: nvidia-nccl-cu12==2.21.5 in /usr/local/lib/python3.11/dist-packages (from torch<3,>=2.0->bitsandbytes) (2.21.5)\n",
            "Requirement already satisfied: nvidia-nvtx-cu12==12.4.127 in /usr/local/lib/python3.11/dist-packages (from torch<3,>=2.0->bitsandbytes) (12.4.127)\n",
            "Requirement already satisfied: nvidia-nvjitlink-cu12==12.4.127 in /usr/local/lib/python3.11/dist-packages (from torch<3,>=2.0->bitsandbytes) (12.4.127)\n",
            "Requirement already satisfied: triton==3.2.0 in /usr/local/lib/python3.11/dist-packages (from torch<3,>=2.0->bitsandbytes) (3.2.0)\n",
            "Requirement already satisfied: sympy==1.13.1 in /usr/local/lib/python3.11/dist-packages (from torch<3,>=2.0->bitsandbytes) (1.13.1)\n",
            "Requirement already satisfied: mpmath<1.4,>=1.1.0 in /usr/local/lib/python3.11/dist-packages (from sympy==1.13.1->torch<3,>=2.0->bitsandbytes) (1.3.0)\n",
            "Requirement already satisfied: charset-normalizer<4,>=2 in /usr/local/lib/python3.11/dist-packages (from requests->transformers) (3.4.2)\n",
            "Requirement already satisfied: idna<4,>=2.5 in /usr/local/lib/python3.11/dist-packages (from requests->transformers) (3.10)\n",
            "Requirement already satisfied: urllib3<3,>=1.21.1 in /usr/local/lib/python3.11/dist-packages (from requests->transformers) (2.4.0)\n",
            "Requirement already satisfied: certifi>=2017.4.17 in /usr/local/lib/python3.11/dist-packages (from requests->transformers) (2025.4.26)\n",
            "Requirement already satisfied: MarkupSafe>=2.0 in /usr/local/lib/python3.11/dist-packages (from jinja2->torch<3,>=2.0->bitsandbytes) (3.0.2)\n"
          ]
        }
      ],
      "execution_count": null
    },
    {
      "cell_type": "code",
      "source": [
        "pip install -U bitsandbytes"
      ],
      "metadata": {
        "colab": {
          "base_uri": "https://localhost:8080/"
        },
        "id": "fjjYSRh2eB8w",
        "outputId": "889fa6df-1dc1-4c98-b677-83b3dc739612"
      },
      "execution_count": null,
      "outputs": [
        {
          "output_type": "stream",
          "name": "stdout",
          "text": [
            "Requirement already satisfied: bitsandbytes in /usr/local/lib/python3.11/dist-packages (0.45.5)\n",
            "Requirement already satisfied: torch<3,>=2.0 in /usr/local/lib/python3.11/dist-packages (from bitsandbytes) (2.6.0+cu124)\n",
            "Requirement already satisfied: numpy>=1.17 in /usr/local/lib/python3.11/dist-packages (from bitsandbytes) (2.0.2)\n",
            "Requirement already satisfied: filelock in /usr/local/lib/python3.11/dist-packages (from torch<3,>=2.0->bitsandbytes) (3.18.0)\n",
            "Requirement already satisfied: typing-extensions>=4.10.0 in /usr/local/lib/python3.11/dist-packages (from torch<3,>=2.0->bitsandbytes) (4.13.2)\n",
            "Requirement already satisfied: networkx in /usr/local/lib/python3.11/dist-packages (from torch<3,>=2.0->bitsandbytes) (3.4.2)\n",
            "Requirement already satisfied: jinja2 in /usr/local/lib/python3.11/dist-packages (from torch<3,>=2.0->bitsandbytes) (3.1.6)\n",
            "Requirement already satisfied: fsspec in /usr/local/lib/python3.11/dist-packages (from torch<3,>=2.0->bitsandbytes) (2025.3.2)\n",
            "Requirement already satisfied: nvidia-cuda-nvrtc-cu12==12.4.127 in /usr/local/lib/python3.11/dist-packages (from torch<3,>=2.0->bitsandbytes) (12.4.127)\n",
            "Requirement already satisfied: nvidia-cuda-runtime-cu12==12.4.127 in /usr/local/lib/python3.11/dist-packages (from torch<3,>=2.0->bitsandbytes) (12.4.127)\n",
            "Requirement already satisfied: nvidia-cuda-cupti-cu12==12.4.127 in /usr/local/lib/python3.11/dist-packages (from torch<3,>=2.0->bitsandbytes) (12.4.127)\n",
            "Requirement already satisfied: nvidia-cudnn-cu12==9.1.0.70 in /usr/local/lib/python3.11/dist-packages (from torch<3,>=2.0->bitsandbytes) (9.1.0.70)\n",
            "Requirement already satisfied: nvidia-cublas-cu12==12.4.5.8 in /usr/local/lib/python3.11/dist-packages (from torch<3,>=2.0->bitsandbytes) (12.4.5.8)\n",
            "Requirement already satisfied: nvidia-cufft-cu12==11.2.1.3 in /usr/local/lib/python3.11/dist-packages (from torch<3,>=2.0->bitsandbytes) (11.2.1.3)\n",
            "Requirement already satisfied: nvidia-curand-cu12==10.3.5.147 in /usr/local/lib/python3.11/dist-packages (from torch<3,>=2.0->bitsandbytes) (10.3.5.147)\n",
            "Requirement already satisfied: nvidia-cusolver-cu12==11.6.1.9 in /usr/local/lib/python3.11/dist-packages (from torch<3,>=2.0->bitsandbytes) (11.6.1.9)\n",
            "Requirement already satisfied: nvidia-cusparse-cu12==12.3.1.170 in /usr/local/lib/python3.11/dist-packages (from torch<3,>=2.0->bitsandbytes) (12.3.1.170)\n",
            "Requirement already satisfied: nvidia-cusparselt-cu12==0.6.2 in /usr/local/lib/python3.11/dist-packages (from torch<3,>=2.0->bitsandbytes) (0.6.2)\n",
            "Requirement already satisfied: nvidia-nccl-cu12==2.21.5 in /usr/local/lib/python3.11/dist-packages (from torch<3,>=2.0->bitsandbytes) (2.21.5)\n",
            "Requirement already satisfied: nvidia-nvtx-cu12==12.4.127 in /usr/local/lib/python3.11/dist-packages (from torch<3,>=2.0->bitsandbytes) (12.4.127)\n",
            "Requirement already satisfied: nvidia-nvjitlink-cu12==12.4.127 in /usr/local/lib/python3.11/dist-packages (from torch<3,>=2.0->bitsandbytes) (12.4.127)\n",
            "Requirement already satisfied: triton==3.2.0 in /usr/local/lib/python3.11/dist-packages (from torch<3,>=2.0->bitsandbytes) (3.2.0)\n",
            "Requirement already satisfied: sympy==1.13.1 in /usr/local/lib/python3.11/dist-packages (from torch<3,>=2.0->bitsandbytes) (1.13.1)\n",
            "Requirement already satisfied: mpmath<1.4,>=1.1.0 in /usr/local/lib/python3.11/dist-packages (from sympy==1.13.1->torch<3,>=2.0->bitsandbytes) (1.3.0)\n",
            "Requirement already satisfied: MarkupSafe>=2.0 in /usr/local/lib/python3.11/dist-packages (from jinja2->torch<3,>=2.0->bitsandbytes) (3.0.2)\n"
          ]
        }
      ]
    },
    {
      "cell_type": "code",
      "source": [
        "!unzip blip-lora-vqa.zip -d lora_adapter\n"
      ],
      "metadata": {
        "colab": {
          "base_uri": "https://localhost:8080/"
        },
        "id": "KIs3lZpqf0m1",
        "outputId": "36705bd8-ee36-4bd0-9b18-0737ac446adc"
      },
      "execution_count": null,
      "outputs": [
        {
          "output_type": "stream",
          "name": "stdout",
          "text": [
            "Archive:  blip-lora-vqa.zip\n",
            "  inflating: lora_adapter/README.md  \n",
            "  inflating: lora_adapter/adapter_config.json  \n",
            "  inflating: lora_adapter/adapter_model.safetensors  \n"
          ]
        }
      ]
    },
    {
      "cell_type": "code",
      "source": [
        "import torch\n",
        "from transformers import BlipProcessor, BlipForQuestionAnswering, BitsAndBytesConfig\n",
        "from peft import PeftModel\n",
        "\n",
        "device = torch.device(\"cuda\" if torch.cuda.is_available() else \"cpu\")\n",
        "\n",
        "# Quantization config\n",
        "bnb_config = BitsAndBytesConfig(\n",
        "    load_in_4bit=True,\n",
        "    bnb_4bit_use_double_quant=True,\n",
        "    bnb_4bit_quant_type=\"nf4\",\n",
        "    bnb_4bit_compute_dtype=torch.float16\n",
        ")\n",
        "\n",
        "# Load processor and model\n",
        "processor = BlipProcessor.from_pretrained(\"Salesforce/blip-vqa-base\")\n",
        "base_model = BlipForQuestionAnswering.from_pretrained(\n",
        "    \"Salesforce/blip-vqa-base\",\n",
        "    quantization_config=bnb_config,\n",
        "    device_map=\"auto\"\n",
        ")\n",
        "\n",
        "# Load LoRA weights\n",
        "peft_model = PeftModel.from_pretrained(\n",
        "    base_model,\n",
        "    \"./lora_adapter\"  # <-- Replace with your path\n",
        ").to(device)\n",
        "\n",
        "peft_model.eval()\n"
      ],
      "metadata": {
        "trusted": true,
        "execution": {
          "iopub.status.busy": "2025-05-18T12:33:18.407669Z",
          "iopub.execute_input": "2025-05-18T12:33:18.407958Z",
          "iopub.status.idle": "2025-05-18T12:33:19.172157Z",
          "shell.execute_reply.started": "2025-05-18T12:33:18.407935Z",
          "shell.execute_reply": "2025-05-18T12:33:19.171212Z"
        },
        "colab": {
          "base_uri": "https://localhost:8080/"
        },
        "id": "GLoQ0XU_ZrjP",
        "outputId": "d36d3379-c239-456d-859c-1c5fdf7d1ad4"
      },
      "outputs": [
        {
          "output_type": "execute_result",
          "data": {
            "text/plain": [
              "PeftModel(\n",
              "  (base_model): LoraModel(\n",
              "    (model): BlipForQuestionAnswering(\n",
              "      (vision_model): BlipVisionModel(\n",
              "        (embeddings): BlipVisionEmbeddings(\n",
              "          (patch_embedding): Conv2d(3, 768, kernel_size=(16, 16), stride=(16, 16))\n",
              "        )\n",
              "        (encoder): BlipEncoder(\n",
              "          (layers): ModuleList(\n",
              "            (0-11): 12 x BlipEncoderLayer(\n",
              "              (self_attn): BlipAttention(\n",
              "                (dropout): Dropout(p=0.0, inplace=False)\n",
              "                (qkv): Linear4bit(in_features=768, out_features=2304, bias=True)\n",
              "                (projection): Linear4bit(in_features=768, out_features=768, bias=True)\n",
              "              )\n",
              "              (layer_norm1): LayerNorm((768,), eps=1e-05, elementwise_affine=True)\n",
              "              (mlp): BlipMLP(\n",
              "                (activation_fn): GELUActivation()\n",
              "                (fc1): Linear4bit(in_features=768, out_features=3072, bias=True)\n",
              "                (fc2): Linear4bit(in_features=3072, out_features=768, bias=True)\n",
              "              )\n",
              "              (layer_norm2): LayerNorm((768,), eps=1e-05, elementwise_affine=True)\n",
              "            )\n",
              "          )\n",
              "        )\n",
              "        (post_layernorm): LayerNorm((768,), eps=1e-05, elementwise_affine=True)\n",
              "      )\n",
              "      (text_encoder): BlipTextModel(\n",
              "        (embeddings): BlipTextEmbeddings(\n",
              "          (word_embeddings): Embedding(30524, 768, padding_idx=0)\n",
              "          (position_embeddings): Embedding(512, 768)\n",
              "          (LayerNorm): LayerNorm((768,), eps=1e-12, elementwise_affine=True)\n",
              "          (dropout): Dropout(p=0.0, inplace=False)\n",
              "        )\n",
              "        (encoder): BlipTextEncoder(\n",
              "          (layer): ModuleList(\n",
              "            (0-11): 12 x BlipTextLayer(\n",
              "              (attention): BlipTextAttention(\n",
              "                (self): BlipTextSelfAttention(\n",
              "                  (query): lora.Linear4bit(\n",
              "                    (base_layer): Linear4bit(in_features=768, out_features=768, bias=True)\n",
              "                    (lora_dropout): ModuleDict(\n",
              "                      (default): Dropout(p=0.1, inplace=False)\n",
              "                    )\n",
              "                    (lora_A): ModuleDict(\n",
              "                      (default): Linear(in_features=768, out_features=8, bias=False)\n",
              "                    )\n",
              "                    (lora_B): ModuleDict(\n",
              "                      (default): Linear(in_features=8, out_features=768, bias=False)\n",
              "                    )\n",
              "                    (lora_embedding_A): ParameterDict()\n",
              "                    (lora_embedding_B): ParameterDict()\n",
              "                    (lora_magnitude_vector): ModuleDict()\n",
              "                  )\n",
              "                  (key): Linear4bit(in_features=768, out_features=768, bias=True)\n",
              "                  (value): lora.Linear4bit(\n",
              "                    (base_layer): Linear4bit(in_features=768, out_features=768, bias=True)\n",
              "                    (lora_dropout): ModuleDict(\n",
              "                      (default): Dropout(p=0.1, inplace=False)\n",
              "                    )\n",
              "                    (lora_A): ModuleDict(\n",
              "                      (default): Linear(in_features=768, out_features=8, bias=False)\n",
              "                    )\n",
              "                    (lora_B): ModuleDict(\n",
              "                      (default): Linear(in_features=8, out_features=768, bias=False)\n",
              "                    )\n",
              "                    (lora_embedding_A): ParameterDict()\n",
              "                    (lora_embedding_B): ParameterDict()\n",
              "                    (lora_magnitude_vector): ModuleDict()\n",
              "                  )\n",
              "                  (dropout): Dropout(p=0.0, inplace=False)\n",
              "                )\n",
              "                (output): BlipTextSelfOutput(\n",
              "                  (dense): Linear4bit(in_features=768, out_features=768, bias=True)\n",
              "                  (LayerNorm): LayerNorm((768,), eps=1e-12, elementwise_affine=True)\n",
              "                  (dropout): Dropout(p=0.0, inplace=False)\n",
              "                )\n",
              "              )\n",
              "              (crossattention): BlipTextAttention(\n",
              "                (self): BlipTextSelfAttention(\n",
              "                  (query): lora.Linear4bit(\n",
              "                    (base_layer): Linear4bit(in_features=768, out_features=768, bias=True)\n",
              "                    (lora_dropout): ModuleDict(\n",
              "                      (default): Dropout(p=0.1, inplace=False)\n",
              "                    )\n",
              "                    (lora_A): ModuleDict(\n",
              "                      (default): Linear(in_features=768, out_features=8, bias=False)\n",
              "                    )\n",
              "                    (lora_B): ModuleDict(\n",
              "                      (default): Linear(in_features=8, out_features=768, bias=False)\n",
              "                    )\n",
              "                    (lora_embedding_A): ParameterDict()\n",
              "                    (lora_embedding_B): ParameterDict()\n",
              "                    (lora_magnitude_vector): ModuleDict()\n",
              "                  )\n",
              "                  (key): Linear4bit(in_features=768, out_features=768, bias=True)\n",
              "                  (value): lora.Linear4bit(\n",
              "                    (base_layer): Linear4bit(in_features=768, out_features=768, bias=True)\n",
              "                    (lora_dropout): ModuleDict(\n",
              "                      (default): Dropout(p=0.1, inplace=False)\n",
              "                    )\n",
              "                    (lora_A): ModuleDict(\n",
              "                      (default): Linear(in_features=768, out_features=8, bias=False)\n",
              "                    )\n",
              "                    (lora_B): ModuleDict(\n",
              "                      (default): Linear(in_features=8, out_features=768, bias=False)\n",
              "                    )\n",
              "                    (lora_embedding_A): ParameterDict()\n",
              "                    (lora_embedding_B): ParameterDict()\n",
              "                    (lora_magnitude_vector): ModuleDict()\n",
              "                  )\n",
              "                  (dropout): Dropout(p=0.0, inplace=False)\n",
              "                )\n",
              "                (output): BlipTextSelfOutput(\n",
              "                  (dense): Linear4bit(in_features=768, out_features=768, bias=True)\n",
              "                  (LayerNorm): LayerNorm((768,), eps=1e-12, elementwise_affine=True)\n",
              "                  (dropout): Dropout(p=0.0, inplace=False)\n",
              "                )\n",
              "              )\n",
              "              (intermediate): BlipTextIntermediate(\n",
              "                (dense): Linear4bit(in_features=768, out_features=3072, bias=True)\n",
              "                (intermediate_act_fn): GELUActivation()\n",
              "              )\n",
              "              (output): BlipTextOutput(\n",
              "                (dense): Linear4bit(in_features=3072, out_features=768, bias=True)\n",
              "                (LayerNorm): LayerNorm((768,), eps=1e-12, elementwise_affine=True)\n",
              "                (dropout): Dropout(p=0.0, inplace=False)\n",
              "              )\n",
              "            )\n",
              "          )\n",
              "        )\n",
              "      )\n",
              "      (text_decoder): BlipTextLMHeadModel(\n",
              "        (bert): BlipTextModel(\n",
              "          (embeddings): BlipTextEmbeddings(\n",
              "            (word_embeddings): Embedding(30524, 768, padding_idx=0)\n",
              "            (position_embeddings): Embedding(512, 768)\n",
              "            (LayerNorm): LayerNorm((768,), eps=1e-12, elementwise_affine=True)\n",
              "            (dropout): Dropout(p=0.0, inplace=False)\n",
              "          )\n",
              "          (encoder): BlipTextEncoder(\n",
              "            (layer): ModuleList(\n",
              "              (0-11): 12 x BlipTextLayer(\n",
              "                (attention): BlipTextAttention(\n",
              "                  (self): BlipTextSelfAttention(\n",
              "                    (query): lora.Linear4bit(\n",
              "                      (base_layer): Linear4bit(in_features=768, out_features=768, bias=True)\n",
              "                      (lora_dropout): ModuleDict(\n",
              "                        (default): Dropout(p=0.1, inplace=False)\n",
              "                      )\n",
              "                      (lora_A): ModuleDict(\n",
              "                        (default): Linear(in_features=768, out_features=8, bias=False)\n",
              "                      )\n",
              "                      (lora_B): ModuleDict(\n",
              "                        (default): Linear(in_features=8, out_features=768, bias=False)\n",
              "                      )\n",
              "                      (lora_embedding_A): ParameterDict()\n",
              "                      (lora_embedding_B): ParameterDict()\n",
              "                      (lora_magnitude_vector): ModuleDict()\n",
              "                    )\n",
              "                    (key): Linear4bit(in_features=768, out_features=768, bias=True)\n",
              "                    (value): lora.Linear4bit(\n",
              "                      (base_layer): Linear4bit(in_features=768, out_features=768, bias=True)\n",
              "                      (lora_dropout): ModuleDict(\n",
              "                        (default): Dropout(p=0.1, inplace=False)\n",
              "                      )\n",
              "                      (lora_A): ModuleDict(\n",
              "                        (default): Linear(in_features=768, out_features=8, bias=False)\n",
              "                      )\n",
              "                      (lora_B): ModuleDict(\n",
              "                        (default): Linear(in_features=8, out_features=768, bias=False)\n",
              "                      )\n",
              "                      (lora_embedding_A): ParameterDict()\n",
              "                      (lora_embedding_B): ParameterDict()\n",
              "                      (lora_magnitude_vector): ModuleDict()\n",
              "                    )\n",
              "                    (dropout): Dropout(p=0.0, inplace=False)\n",
              "                  )\n",
              "                  (output): BlipTextSelfOutput(\n",
              "                    (dense): Linear4bit(in_features=768, out_features=768, bias=True)\n",
              "                    (LayerNorm): LayerNorm((768,), eps=1e-12, elementwise_affine=True)\n",
              "                    (dropout): Dropout(p=0.0, inplace=False)\n",
              "                  )\n",
              "                )\n",
              "                (crossattention): BlipTextAttention(\n",
              "                  (self): BlipTextSelfAttention(\n",
              "                    (query): lora.Linear4bit(\n",
              "                      (base_layer): Linear4bit(in_features=768, out_features=768, bias=True)\n",
              "                      (lora_dropout): ModuleDict(\n",
              "                        (default): Dropout(p=0.1, inplace=False)\n",
              "                      )\n",
              "                      (lora_A): ModuleDict(\n",
              "                        (default): Linear(in_features=768, out_features=8, bias=False)\n",
              "                      )\n",
              "                      (lora_B): ModuleDict(\n",
              "                        (default): Linear(in_features=8, out_features=768, bias=False)\n",
              "                      )\n",
              "                      (lora_embedding_A): ParameterDict()\n",
              "                      (lora_embedding_B): ParameterDict()\n",
              "                      (lora_magnitude_vector): ModuleDict()\n",
              "                    )\n",
              "                    (key): Linear4bit(in_features=768, out_features=768, bias=True)\n",
              "                    (value): lora.Linear4bit(\n",
              "                      (base_layer): Linear4bit(in_features=768, out_features=768, bias=True)\n",
              "                      (lora_dropout): ModuleDict(\n",
              "                        (default): Dropout(p=0.1, inplace=False)\n",
              "                      )\n",
              "                      (lora_A): ModuleDict(\n",
              "                        (default): Linear(in_features=768, out_features=8, bias=False)\n",
              "                      )\n",
              "                      (lora_B): ModuleDict(\n",
              "                        (default): Linear(in_features=8, out_features=768, bias=False)\n",
              "                      )\n",
              "                      (lora_embedding_A): ParameterDict()\n",
              "                      (lora_embedding_B): ParameterDict()\n",
              "                      (lora_magnitude_vector): ModuleDict()\n",
              "                    )\n",
              "                    (dropout): Dropout(p=0.0, inplace=False)\n",
              "                  )\n",
              "                  (output): BlipTextSelfOutput(\n",
              "                    (dense): Linear4bit(in_features=768, out_features=768, bias=True)\n",
              "                    (LayerNorm): LayerNorm((768,), eps=1e-12, elementwise_affine=True)\n",
              "                    (dropout): Dropout(p=0.0, inplace=False)\n",
              "                  )\n",
              "                )\n",
              "                (intermediate): BlipTextIntermediate(\n",
              "                  (dense): Linear4bit(in_features=768, out_features=3072, bias=True)\n",
              "                  (intermediate_act_fn): GELUActivation()\n",
              "                )\n",
              "                (output): BlipTextOutput(\n",
              "                  (dense): Linear4bit(in_features=3072, out_features=768, bias=True)\n",
              "                  (LayerNorm): LayerNorm((768,), eps=1e-12, elementwise_affine=True)\n",
              "                  (dropout): Dropout(p=0.0, inplace=False)\n",
              "                )\n",
              "              )\n",
              "            )\n",
              "          )\n",
              "        )\n",
              "        (cls): BlipTextOnlyMLMHead(\n",
              "          (predictions): BlipTextLMPredictionHead(\n",
              "            (transform): BlipTextPredictionHeadTransform(\n",
              "              (dense): Linear(in_features=768, out_features=768, bias=True)\n",
              "              (transform_act_fn): GELUActivation()\n",
              "              (LayerNorm): LayerNorm((768,), eps=1e-12, elementwise_affine=True)\n",
              "            )\n",
              "            (decoder): Linear(in_features=768, out_features=30524, bias=True)\n",
              "          )\n",
              "        )\n",
              "      )\n",
              "    )\n",
              "  )\n",
              ")"
            ]
          },
          "metadata": {},
          "execution_count": 15
        }
      ],
      "execution_count": 15
    },
    {
      "cell_type": "code",
      "source": [
        "import time\n",
        "from PIL import Image\n",
        "from tqdm import tqdm\n",
        "\n",
        "predictions = []\n",
        "total_time = 0\n",
        "correct = 0\n",
        "total = 0\n",
        "\n",
        "for img_path, qas in tqdm(list(questions_data.items())[:300]):  # modify slice if needed\n",
        "    full_img_path = image_root / Path(img_path).relative_to(\"images/small\")\n",
        "    image = Image.open(full_img_path).convert(\"RGB\")\n",
        "\n",
        "    for qa in qas:\n",
        "        question = qa[\"question\"]\n",
        "        ground_truth = qa[\"answer\"].strip().lower()\n",
        "\n",
        "        # Preprocess\n",
        "        inputs = processor(image, question, return_tensors=\"pt\").to(device)\n",
        "\n",
        "        # Measure inference time\n",
        "        start = time.time()\n",
        "        generated_ids = peft_model.generate(**inputs)\n",
        "        end = time.time()\n",
        "\n",
        "        total_time += (end - start)\n",
        "\n",
        "        predicted_answer = processor.batch_decode(generated_ids, skip_special_tokens=True)[0].strip().lower()\n",
        "\n",
        "\n",
        "        predictions.append({\n",
        "            \"question\": question,\n",
        "            \"ground_truth\": ground_truth,\n",
        "            \"prediction\": predicted_answer\n",
        "        })\n",
        "\n",
        "print(f\" Average Inference Time: {total_time / 100:.3f} seconds/image\")\n",
        "\n",
        "\n"
      ],
      "metadata": {
        "colab": {
          "base_uri": "https://localhost:8080/"
        },
        "id": "onqc4gu7uXXH",
        "outputId": "9316b653-d4c1-4b57-c590-ec99f034ba19"
      },
      "execution_count": 21,
      "outputs": [
        {
          "output_type": "stream",
          "name": "stderr",
          "text": [
            "100%|██████████| 300/300 [01:47<00:00,  2.80it/s]"
          ]
        },
        {
          "output_type": "stream",
          "name": "stdout",
          "text": [
            " Average Inference Time: 1.013 seconds/image\n"
          ]
        },
        {
          "output_type": "stream",
          "name": "stderr",
          "text": [
            "\n"
          ]
        }
      ]
    },
    {
      "cell_type": "code",
      "source": [
        "import time\n",
        "from PIL import Image\n",
        "from tqdm import tqdm\n",
        "\n",
        "predictions = []\n",
        "total_time = 0\n",
        "correct = 0\n",
        "total = 0\n",
        "\n",
        "for img_path, qas in tqdm(list(questions_data.items())):  # modify slice if needed\n",
        "    full_img_path = image_root / Path(img_path).relative_to(\"images/small\")\n",
        "    image = Image.open(full_img_path).convert(\"RGB\")\n",
        "\n",
        "    for qa in qas:\n",
        "        question = qa[\"question\"]\n",
        "        ground_truth = qa[\"answer\"].strip().lower()\n",
        "\n",
        "        # Preprocess\n",
        "        inputs = processor(image, question, return_tensors=\"pt\").to(device)\n",
        "\n",
        "        # Measure inference time\n",
        "        start = time.time()\n",
        "        generated_ids = peft_model.generate(**inputs)\n",
        "        end = time.time()\n",
        "\n",
        "        total_time += (end - start)\n",
        "\n",
        "        predicted_answer = processor.batch_decode(generated_ids, skip_special_tokens=True)[0].strip().lower()\n",
        "\n",
        "        if predicted_answer == ground_truth:\n",
        "            correct += 1\n",
        "        total += 1\n",
        "\n",
        "        predictions.append({\n",
        "            \"question\": question,\n",
        "            \"ground_truth\": ground_truth,\n",
        "            \"prediction\": predicted_answer\n",
        "        })\n",
        "\n",
        "print(f\"\\n Accuracy: {correct}/{total} = {correct / total * 100:.2f}%\")\n",
        "print(f\" Average Inference Time: {total_time / total:.3f} seconds/image\")\n"
      ],
      "metadata": {
        "trusted": true,
        "execution": {
          "iopub.status.busy": "2025-05-18T12:24:54.665914Z",
          "iopub.execute_input": "2025-05-18T12:24:54.666179Z",
          "iopub.status.idle": "2025-05-18T12:25:19.754726Z",
          "shell.execute_reply.started": "2025-05-18T12:24:54.666153Z",
          "shell.execute_reply": "2025-05-18T12:25:19.753815Z"
        },
        "colab": {
          "base_uri": "https://localhost:8080/"
        },
        "id": "s3G7hqj9ZrjP",
        "outputId": "5b88907e-9076-4f2f-a7de-08852f33855f"
      },
      "outputs": [
        {
          "output_type": "stream",
          "name": "stderr",
          "text": [
            "100%|██████████| 2067/2067 [20:25<00:00,  1.69it/s]"
          ]
        },
        {
          "output_type": "stream",
          "name": "stdout",
          "text": [
            "\n",
            " Accuracy: 5380/6945 = 77.47%\n",
            " Average Inference Time: 0.167 seconds/image\n"
          ]
        },
        {
          "output_type": "stream",
          "name": "stderr",
          "text": [
            "\n"
          ]
        }
      ],
      "execution_count": 10
    },
    {
      "cell_type": "markdown",
      "source": [
        "**KV caching**"
      ],
      "metadata": {
        "id": "jTWzAC2qZrjQ"
      }
    },
    {
      "cell_type": "code",
      "source": [
        "predictions = []\n",
        "total_time = 0\n",
        "correct = 0\n",
        "total = 0\n",
        "\n",
        "for img_path, qas in tqdm(list(questions_data.items())):  # adjust range as needed\n",
        "    full_img_path = image_root / Path(img_path).relative_to(\"images/small\")\n",
        "    image = Image.open(full_img_path).convert(\"RGB\")\n",
        "\n",
        "    for qa in qas:\n",
        "        question = qa[\"question\"]\n",
        "        ground_truth = qa[\"answer\"].strip().lower()\n",
        "\n",
        "        # Preprocess\n",
        "        inputs = processor(image, question, return_tensors=\"pt\").to(device)\n",
        "\n",
        "        # Run inference with KV caching\n",
        "        with torch.no_grad():\n",
        "            start = time.time()\n",
        "            generated_ids = peft_model.generate(\n",
        "                **inputs,\n",
        "                use_cache=True  # KV Cache enabled here\n",
        "            )\n",
        "            end = time.time()\n",
        "\n",
        "        total_time += (end - start)\n",
        "\n",
        "        predicted_answer = processor.batch_decode(generated_ids, skip_special_tokens=True)[0].strip().lower()\n",
        "\n",
        "        if predicted_answer == ground_truth:\n",
        "            correct += 1\n",
        "        total += 1\n",
        "\n",
        "        predictions.append({\n",
        "            \"question\": question,\n",
        "            \"ground_truth\": ground_truth,\n",
        "            \"prediction\": predicted_answer\n",
        "        })\n",
        "\n",
        "print(f\"\\n Accuracy: {correct}/{total} = {correct / total * 100:.2f}%\")\n",
        "print(f\" Average Inference Time: {total_time / total:.3f} seconds/image\")\n"
      ],
      "metadata": {
        "trusted": true,
        "id": "sgrSlMqhZrjQ",
        "colab": {
          "base_uri": "https://localhost:8080/"
        },
        "outputId": "d6075195-9d98-4891-a7b0-03c571174b86"
      },
      "outputs": [
        {
          "output_type": "stream",
          "name": "stderr",
          "text": [
            "100%|██████████| 2067/2067 [20:42<00:00,  1.66it/s]"
          ]
        },
        {
          "output_type": "stream",
          "name": "stdout",
          "text": [
            "\n",
            " Accuracy: 5380/6945 = 77.47%\n",
            " Average Inference Time: 0.170 seconds/image\n"
          ]
        },
        {
          "output_type": "stream",
          "name": "stderr",
          "text": [
            "\n"
          ]
        }
      ],
      "execution_count": 11
    },
    {
      "cell_type": "code",
      "source": [],
      "metadata": {
        "id": "QNBKnKeEmUQT"
      },
      "execution_count": null,
      "outputs": []
    }
  ]
}